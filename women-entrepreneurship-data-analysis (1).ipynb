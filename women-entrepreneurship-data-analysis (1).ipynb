{
 "cells": [
  {
   "cell_type": "markdown",
   "metadata": {
    "papermill": {
     "duration": 0.042348,
     "end_time": "2020-11-28T18:08:19.523487",
     "exception": false,
     "start_time": "2020-11-28T18:08:19.481139",
     "status": "completed"
    },
    "tags": []
   },
   "source": [
    "# Women Entrepreneurship and Labor Force Analysis\n",
    "![Image](https://img.etimg.com/thumb/width-640,height-480,imgsize-116220,resizemode-1,msid-59605765/small-biz/entrepreneurship/heres-how-we-can-empower-women-entrepreneurship-in-india.jpg)\n",
    "\n",
    "An entrepreneur is an individual who creates a new business, bearing most of the risks and enjoying most of the rewards. The entrepreneur is commonly seen as an innovator, a source of new ideas, goods, services, and business/or procedures.\n",
    "\n",
    "\n",
    "Entrepreneurs play a key role in any economy, using the skills and initiative necessary to anticipate needs and bring good new ideas to market. Entrepreneurs who prove to be successful in taking on the risks of a startup are rewarded with profits, fame, and continued growth opportunities.\n",
    "\n",
    "Historically, Entrepreneurship was mostly dominated by men, but in 21st Century the dynamic is changing. The world is seeing more and more succesfull female Entrepreneurs.\n",
    "\n",
    "This Dataset covers Data from 50 countries of the world and covers information like Inflation Rates, Currency an Entrepreneurship Index in general and for female\n",
    "\n",
    "[Dataset Link](https://www.kaggle.com/babyoda/women-entrepreneurship-and-labor-force)\n",
    "\n",
    "Thanks to [@babyoda](https://www.kaggle.com/babyoda) for this Dataset!"
   ]
  },
  {
   "cell_type": "markdown",
   "metadata": {
    "papermill": {
     "duration": 0.041582,
     "end_time": "2020-11-28T18:08:19.606906",
     "exception": false,
     "start_time": "2020-11-28T18:08:19.565324",
     "status": "completed"
    },
    "tags": []
   },
   "source": [
    "## Standard Imports"
   ]
  },
  {
   "cell_type": "code",
   "execution_count": 1,
   "metadata": {
    "execution": {
     "iopub.execute_input": "2020-11-28T18:08:19.697425Z",
     "iopub.status.busy": "2020-11-28T18:08:19.696631Z",
     "iopub.status.idle": "2020-11-28T18:08:20.619689Z",
     "shell.execute_reply": "2020-11-28T18:08:20.618994Z"
    },
    "papermill": {
     "duration": 0.970575,
     "end_time": "2020-11-28T18:08:20.619804",
     "exception": false,
     "start_time": "2020-11-28T18:08:19.649229",
     "status": "completed"
    },
    "tags": []
   },
   "outputs": [],
   "source": [
    "import numpy as np\n",
    "import pandas as pd\n",
    "import matplotlib.pyplot as plt\n",
    "import seaborn as sns"
   ]
  },
  {
   "cell_type": "code",
   "execution_count": 2,
   "metadata": {
    "execution": {
     "iopub.execute_input": "2020-11-28T18:08:20.681938Z",
     "iopub.status.busy": "2020-11-28T18:08:20.681064Z",
     "iopub.status.idle": "2020-11-28T18:08:20.684057Z",
     "shell.execute_reply": "2020-11-28T18:08:20.683580Z"
    },
    "papermill": {
     "duration": 0.035765,
     "end_time": "2020-11-28T18:08:20.684155",
     "exception": false,
     "start_time": "2020-11-28T18:08:20.648390",
     "status": "completed"
    },
    "tags": []
   },
   "outputs": [],
   "source": [
    "sns.set_style('darkgrid')"
   ]
  },
  {
   "cell_type": "code",
   "execution_count": 3,
   "metadata": {
    "execution": {
     "iopub.execute_input": "2020-11-28T18:08:20.744163Z",
     "iopub.status.busy": "2020-11-28T18:08:20.743450Z",
     "iopub.status.idle": "2020-11-28T18:08:21.840345Z",
     "shell.execute_reply": "2020-11-28T18:08:21.839699Z"
    },
    "papermill": {
     "duration": 1.128384,
     "end_time": "2020-11-28T18:08:21.840451",
     "exception": false,
     "start_time": "2020-11-28T18:08:20.712067",
     "status": "completed"
    },
    "tags": []
   },
   "outputs": [],
   "source": [
    "import plotly.express as px"
   ]
  },
  {
   "cell_type": "markdown",
   "metadata": {
    "papermill": {
     "duration": 0.028216,
     "end_time": "2020-11-28T18:08:21.899193",
     "exception": false,
     "start_time": "2020-11-28T18:08:21.870977",
     "status": "completed"
    },
    "tags": []
   },
   "source": [
    "Ignoring Harmless warnings"
   ]
  },
  {
   "cell_type": "code",
   "execution_count": 4,
   "metadata": {
    "execution": {
     "iopub.execute_input": "2020-11-28T18:08:21.962039Z",
     "iopub.status.busy": "2020-11-28T18:08:21.961390Z",
     "iopub.status.idle": "2020-11-28T18:08:21.964414Z",
     "shell.execute_reply": "2020-11-28T18:08:21.963896Z"
    },
    "papermill": {
     "duration": 0.036613,
     "end_time": "2020-11-28T18:08:21.964555",
     "exception": false,
     "start_time": "2020-11-28T18:08:21.927942",
     "status": "completed"
    },
    "tags": []
   },
   "outputs": [],
   "source": [
    "import warnings\n",
    "warnings.filterwarnings('ignore')"
   ]
  },
  {
   "cell_type": "markdown",
   "metadata": {
    "papermill": {
     "duration": 0.02904,
     "end_time": "2020-11-28T18:08:22.022257",
     "exception": false,
     "start_time": "2020-11-28T18:08:21.993217",
     "status": "completed"
    },
    "tags": []
   },
   "source": [
    "## Loading Data"
   ]
  },
  {
   "cell_type": "code",
   "execution_count": 5,
   "metadata": {
    "execution": {
     "iopub.execute_input": "2020-11-28T18:08:22.087549Z",
     "iopub.status.busy": "2020-11-28T18:08:22.086692Z",
     "iopub.status.idle": "2020-11-28T18:08:22.112012Z",
     "shell.execute_reply": "2020-11-28T18:08:22.111428Z"
    },
    "papermill": {
     "duration": 0.060381,
     "end_time": "2020-11-28T18:08:22.112123",
     "exception": false,
     "start_time": "2020-11-28T18:08:22.051742",
     "status": "completed"
    },
    "tags": []
   },
   "outputs": [],
   "source": [
    "data = pd.read_csv(\"../input/women-entrepreneurship-and-labor-force/Dataset3.csv\",sep= \";\")"
   ]
  },
  {
   "cell_type": "code",
   "execution_count": 6,
   "metadata": {
    "execution": {
     "iopub.execute_input": "2020-11-28T18:08:22.190472Z",
     "iopub.status.busy": "2020-11-28T18:08:22.189864Z",
     "iopub.status.idle": "2020-11-28T18:08:22.203863Z",
     "shell.execute_reply": "2020-11-28T18:08:22.204326Z"
    },
    "papermill": {
     "duration": 0.063249,
     "end_time": "2020-11-28T18:08:22.204461",
     "exception": false,
     "start_time": "2020-11-28T18:08:22.141212",
     "status": "completed"
    },
    "tags": []
   },
   "outputs": [
    {
     "data": {
      "text/html": [
       "<div>\n",
       "<style scoped>\n",
       "    .dataframe tbody tr th:only-of-type {\n",
       "        vertical-align: middle;\n",
       "    }\n",
       "\n",
       "    .dataframe tbody tr th {\n",
       "        vertical-align: top;\n",
       "    }\n",
       "\n",
       "    .dataframe thead th {\n",
       "        text-align: right;\n",
       "    }\n",
       "</style>\n",
       "<table border=\"1\" class=\"dataframe\">\n",
       "  <thead>\n",
       "    <tr style=\"text-align: right;\">\n",
       "      <th></th>\n",
       "      <th>No</th>\n",
       "      <th>Country</th>\n",
       "      <th>Level of development</th>\n",
       "      <th>European Union Membership</th>\n",
       "      <th>Currency</th>\n",
       "      <th>Women Entrepreneurship Index</th>\n",
       "      <th>Entrepreneurship Index</th>\n",
       "      <th>Inflation rate</th>\n",
       "      <th>Female Labor Force Participation Rate</th>\n",
       "    </tr>\n",
       "  </thead>\n",
       "  <tbody>\n",
       "    <tr>\n",
       "      <th>0</th>\n",
       "      <td>4</td>\n",
       "      <td>Austria</td>\n",
       "      <td>Developed</td>\n",
       "      <td>Member</td>\n",
       "      <td>Euro</td>\n",
       "      <td>54.9</td>\n",
       "      <td>64.9</td>\n",
       "      <td>0.90</td>\n",
       "      <td>67.1</td>\n",
       "    </tr>\n",
       "    <tr>\n",
       "      <th>1</th>\n",
       "      <td>6</td>\n",
       "      <td>Belgium</td>\n",
       "      <td>Developed</td>\n",
       "      <td>Member</td>\n",
       "      <td>Euro</td>\n",
       "      <td>63.6</td>\n",
       "      <td>65.5</td>\n",
       "      <td>0.60</td>\n",
       "      <td>58.0</td>\n",
       "    </tr>\n",
       "    <tr>\n",
       "      <th>2</th>\n",
       "      <td>17</td>\n",
       "      <td>Estonia</td>\n",
       "      <td>Developed</td>\n",
       "      <td>Member</td>\n",
       "      <td>Euro</td>\n",
       "      <td>55.4</td>\n",
       "      <td>60.2</td>\n",
       "      <td>-0.88</td>\n",
       "      <td>68.5</td>\n",
       "    </tr>\n",
       "    <tr>\n",
       "      <th>3</th>\n",
       "      <td>18</td>\n",
       "      <td>Finland</td>\n",
       "      <td>Developed</td>\n",
       "      <td>Member</td>\n",
       "      <td>Euro</td>\n",
       "      <td>66.4</td>\n",
       "      <td>65.7</td>\n",
       "      <td>-0.20</td>\n",
       "      <td>67.7</td>\n",
       "    </tr>\n",
       "    <tr>\n",
       "      <th>4</th>\n",
       "      <td>19</td>\n",
       "      <td>France</td>\n",
       "      <td>Developed</td>\n",
       "      <td>Member</td>\n",
       "      <td>Euro</td>\n",
       "      <td>68.8</td>\n",
       "      <td>67.3</td>\n",
       "      <td>0.00</td>\n",
       "      <td>60.6</td>\n",
       "    </tr>\n",
       "  </tbody>\n",
       "</table>\n",
       "</div>"
      ],
      "text/plain": [
       "   No  Country Level of development European Union Membership Currency  \\\n",
       "0   4  Austria            Developed                    Member     Euro   \n",
       "1   6  Belgium            Developed                    Member     Euro   \n",
       "2  17  Estonia            Developed                    Member     Euro   \n",
       "3  18  Finland            Developed                    Member     Euro   \n",
       "4  19   France            Developed                    Member     Euro   \n",
       "\n",
       "   Women Entrepreneurship Index  Entrepreneurship Index  Inflation rate  \\\n",
       "0                          54.9                    64.9            0.90   \n",
       "1                          63.6                    65.5            0.60   \n",
       "2                          55.4                    60.2           -0.88   \n",
       "3                          66.4                    65.7           -0.20   \n",
       "4                          68.8                    67.3            0.00   \n",
       "\n",
       "   Female Labor Force Participation Rate  \n",
       "0                                   67.1  \n",
       "1                                   58.0  \n",
       "2                                   68.5  \n",
       "3                                   67.7  \n",
       "4                                   60.6  "
      ]
     },
     "execution_count": 6,
     "metadata": {},
     "output_type": "execute_result"
    }
   ],
   "source": [
    "data.head()"
   ]
  },
  {
   "cell_type": "code",
   "execution_count": 7,
   "metadata": {
    "execution": {
     "iopub.execute_input": "2020-11-28T18:08:22.278684Z",
     "iopub.status.busy": "2020-11-28T18:08:22.277996Z",
     "iopub.status.idle": "2020-11-28T18:08:22.281823Z",
     "shell.execute_reply": "2020-11-28T18:08:22.281252Z"
    },
    "papermill": {
     "duration": 0.046725,
     "end_time": "2020-11-28T18:08:22.281926",
     "exception": false,
     "start_time": "2020-11-28T18:08:22.235201",
     "status": "completed"
    },
    "tags": []
   },
   "outputs": [
    {
     "name": "stdout",
     "output_type": "stream",
     "text": [
      "<class 'pandas.core.frame.DataFrame'>\n",
      "RangeIndex: 51 entries, 0 to 50\n",
      "Data columns (total 9 columns):\n",
      " #   Column                                 Non-Null Count  Dtype  \n",
      "---  ------                                 --------------  -----  \n",
      " 0   No                                     51 non-null     int64  \n",
      " 1   Country                                51 non-null     object \n",
      " 2   Level of development                   51 non-null     object \n",
      " 3   European Union Membership              51 non-null     object \n",
      " 4   Currency                               51 non-null     object \n",
      " 5   Women Entrepreneurship Index           51 non-null     float64\n",
      " 6   Entrepreneurship Index                 51 non-null     float64\n",
      " 7   Inflation rate                         51 non-null     float64\n",
      " 8   Female Labor Force Participation Rate  51 non-null     float64\n",
      "dtypes: float64(4), int64(1), object(4)\n",
      "memory usage: 3.7+ KB\n"
     ]
    }
   ],
   "source": [
    "data.info()"
   ]
  },
  {
   "cell_type": "code",
   "execution_count": 8,
   "metadata": {
    "execution": {
     "iopub.execute_input": "2020-11-28T18:08:22.376815Z",
     "iopub.status.busy": "2020-11-28T18:08:22.375955Z",
     "iopub.status.idle": "2020-11-28T18:08:22.381316Z",
     "shell.execute_reply": "2020-11-28T18:08:22.380773Z"
    },
    "papermill": {
     "duration": 0.067982,
     "end_time": "2020-11-28T18:08:22.381418",
     "exception": false,
     "start_time": "2020-11-28T18:08:22.313436",
     "status": "completed"
    },
    "tags": []
   },
   "outputs": [
    {
     "data": {
      "text/html": [
       "<div>\n",
       "<style scoped>\n",
       "    .dataframe tbody tr th:only-of-type {\n",
       "        vertical-align: middle;\n",
       "    }\n",
       "\n",
       "    .dataframe tbody tr th {\n",
       "        vertical-align: top;\n",
       "    }\n",
       "\n",
       "    .dataframe thead th {\n",
       "        text-align: right;\n",
       "    }\n",
       "</style>\n",
       "<table border=\"1\" class=\"dataframe\">\n",
       "  <thead>\n",
       "    <tr style=\"text-align: right;\">\n",
       "      <th></th>\n",
       "      <th>No</th>\n",
       "      <th>Country</th>\n",
       "      <th>Level of development</th>\n",
       "      <th>European Union Membership</th>\n",
       "      <th>Currency</th>\n",
       "      <th>Women Entrepreneurship Index</th>\n",
       "      <th>Entrepreneurship Index</th>\n",
       "      <th>Inflation rate</th>\n",
       "      <th>Female Labor Force Participation Rate</th>\n",
       "    </tr>\n",
       "  </thead>\n",
       "  <tbody>\n",
       "    <tr>\n",
       "      <th>0</th>\n",
       "      <td>4</td>\n",
       "      <td>Austria</td>\n",
       "      <td>Developed</td>\n",
       "      <td>Member</td>\n",
       "      <td>Euro</td>\n",
       "      <td>54.9</td>\n",
       "      <td>64.9</td>\n",
       "      <td>0.90</td>\n",
       "      <td>67.10</td>\n",
       "    </tr>\n",
       "    <tr>\n",
       "      <th>1</th>\n",
       "      <td>6</td>\n",
       "      <td>Belgium</td>\n",
       "      <td>Developed</td>\n",
       "      <td>Member</td>\n",
       "      <td>Euro</td>\n",
       "      <td>63.6</td>\n",
       "      <td>65.5</td>\n",
       "      <td>0.60</td>\n",
       "      <td>58.00</td>\n",
       "    </tr>\n",
       "    <tr>\n",
       "      <th>2</th>\n",
       "      <td>17</td>\n",
       "      <td>Estonia</td>\n",
       "      <td>Developed</td>\n",
       "      <td>Member</td>\n",
       "      <td>Euro</td>\n",
       "      <td>55.4</td>\n",
       "      <td>60.2</td>\n",
       "      <td>-0.88</td>\n",
       "      <td>68.50</td>\n",
       "    </tr>\n",
       "    <tr>\n",
       "      <th>3</th>\n",
       "      <td>18</td>\n",
       "      <td>Finland</td>\n",
       "      <td>Developed</td>\n",
       "      <td>Member</td>\n",
       "      <td>Euro</td>\n",
       "      <td>66.4</td>\n",
       "      <td>65.7</td>\n",
       "      <td>-0.20</td>\n",
       "      <td>67.70</td>\n",
       "    </tr>\n",
       "    <tr>\n",
       "      <th>4</th>\n",
       "      <td>19</td>\n",
       "      <td>France</td>\n",
       "      <td>Developed</td>\n",
       "      <td>Member</td>\n",
       "      <td>Euro</td>\n",
       "      <td>68.8</td>\n",
       "      <td>67.3</td>\n",
       "      <td>0.00</td>\n",
       "      <td>60.60</td>\n",
       "    </tr>\n",
       "    <tr>\n",
       "      <th>5</th>\n",
       "      <td>20</td>\n",
       "      <td>Germany</td>\n",
       "      <td>Developed</td>\n",
       "      <td>Member</td>\n",
       "      <td>Euro</td>\n",
       "      <td>63.6</td>\n",
       "      <td>67.4</td>\n",
       "      <td>0.50</td>\n",
       "      <td>69.90</td>\n",
       "    </tr>\n",
       "    <tr>\n",
       "      <th>6</th>\n",
       "      <td>22</td>\n",
       "      <td>Greece</td>\n",
       "      <td>Developed</td>\n",
       "      <td>Member</td>\n",
       "      <td>Euro</td>\n",
       "      <td>43.0</td>\n",
       "      <td>42.0</td>\n",
       "      <td>-1.70</td>\n",
       "      <td>42.50</td>\n",
       "    </tr>\n",
       "    <tr>\n",
       "      <th>7</th>\n",
       "      <td>28</td>\n",
       "      <td>Ireland</td>\n",
       "      <td>Developed</td>\n",
       "      <td>Member</td>\n",
       "      <td>Euro</td>\n",
       "      <td>64.3</td>\n",
       "      <td>65.3</td>\n",
       "      <td>-0.30</td>\n",
       "      <td>59.40</td>\n",
       "    </tr>\n",
       "    <tr>\n",
       "      <th>8</th>\n",
       "      <td>30</td>\n",
       "      <td>Italy</td>\n",
       "      <td>Developed</td>\n",
       "      <td>Member</td>\n",
       "      <td>Euro</td>\n",
       "      <td>51.4</td>\n",
       "      <td>41.3</td>\n",
       "      <td>0.00</td>\n",
       "      <td>47.20</td>\n",
       "    </tr>\n",
       "    <tr>\n",
       "      <th>9</th>\n",
       "      <td>34</td>\n",
       "      <td>Latvia</td>\n",
       "      <td>Developed</td>\n",
       "      <td>Member</td>\n",
       "      <td>Euro</td>\n",
       "      <td>56.6</td>\n",
       "      <td>54.5</td>\n",
       "      <td>0.20</td>\n",
       "      <td>66.40</td>\n",
       "    </tr>\n",
       "    <tr>\n",
       "      <th>10</th>\n",
       "      <td>35</td>\n",
       "      <td>Lithuania</td>\n",
       "      <td>Developed</td>\n",
       "      <td>Member</td>\n",
       "      <td>Euro</td>\n",
       "      <td>58.5</td>\n",
       "      <td>54.6</td>\n",
       "      <td>-0.90</td>\n",
       "      <td>66.50</td>\n",
       "    </tr>\n",
       "    <tr>\n",
       "      <th>11</th>\n",
       "      <td>39</td>\n",
       "      <td>Netherlands</td>\n",
       "      <td>Developed</td>\n",
       "      <td>Member</td>\n",
       "      <td>Euro</td>\n",
       "      <td>69.3</td>\n",
       "      <td>66.5</td>\n",
       "      <td>0.60</td>\n",
       "      <td>69.20</td>\n",
       "    </tr>\n",
       "    <tr>\n",
       "      <th>12</th>\n",
       "      <td>50</td>\n",
       "      <td>Slovakia</td>\n",
       "      <td>Developed</td>\n",
       "      <td>Member</td>\n",
       "      <td>Euro</td>\n",
       "      <td>54.8</td>\n",
       "      <td>45.4</td>\n",
       "      <td>-0.30</td>\n",
       "      <td>55.90</td>\n",
       "    </tr>\n",
       "    <tr>\n",
       "      <th>13</th>\n",
       "      <td>51</td>\n",
       "      <td>Slovenia</td>\n",
       "      <td>Developed</td>\n",
       "      <td>Member</td>\n",
       "      <td>Euro</td>\n",
       "      <td>55.9</td>\n",
       "      <td>53.1</td>\n",
       "      <td>-0.50</td>\n",
       "      <td>61.00</td>\n",
       "    </tr>\n",
       "    <tr>\n",
       "      <th>14</th>\n",
       "      <td>53</td>\n",
       "      <td>Spain</td>\n",
       "      <td>Developed</td>\n",
       "      <td>Member</td>\n",
       "      <td>Euro</td>\n",
       "      <td>52.5</td>\n",
       "      <td>49.6</td>\n",
       "      <td>-0.50</td>\n",
       "      <td>52.70</td>\n",
       "    </tr>\n",
       "    <tr>\n",
       "      <th>15</th>\n",
       "      <td>12</td>\n",
       "      <td>Croatia</td>\n",
       "      <td>Developed</td>\n",
       "      <td>Member</td>\n",
       "      <td>National Currency</td>\n",
       "      <td>49.9</td>\n",
       "      <td>40.6</td>\n",
       "      <td>-0.50</td>\n",
       "      <td>60.40</td>\n",
       "    </tr>\n",
       "    <tr>\n",
       "      <th>16</th>\n",
       "      <td>13</td>\n",
       "      <td>Denmark</td>\n",
       "      <td>Developed</td>\n",
       "      <td>Member</td>\n",
       "      <td>National Currency</td>\n",
       "      <td>69.7</td>\n",
       "      <td>71.4</td>\n",
       "      <td>0.50</td>\n",
       "      <td>70.30</td>\n",
       "    </tr>\n",
       "    <tr>\n",
       "      <th>17</th>\n",
       "      <td>24</td>\n",
       "      <td>Hungary</td>\n",
       "      <td>Developed</td>\n",
       "      <td>Member</td>\n",
       "      <td>National Currency</td>\n",
       "      <td>53.7</td>\n",
       "      <td>42.7</td>\n",
       "      <td>-0.10</td>\n",
       "      <td>57.80</td>\n",
       "    </tr>\n",
       "    <tr>\n",
       "      <th>18</th>\n",
       "      <td>44</td>\n",
       "      <td>Poland</td>\n",
       "      <td>Developed</td>\n",
       "      <td>Member</td>\n",
       "      <td>National Currency</td>\n",
       "      <td>57.7</td>\n",
       "      <td>47.4</td>\n",
       "      <td>-0.90</td>\n",
       "      <td>56.60</td>\n",
       "    </tr>\n",
       "    <tr>\n",
       "      <th>19</th>\n",
       "      <td>54</td>\n",
       "      <td>Sweden</td>\n",
       "      <td>Developed</td>\n",
       "      <td>Member</td>\n",
       "      <td>National Currency</td>\n",
       "      <td>66.7</td>\n",
       "      <td>71.8</td>\n",
       "      <td>0.00</td>\n",
       "      <td>74.00</td>\n",
       "    </tr>\n",
       "    <tr>\n",
       "      <th>20</th>\n",
       "      <td>3</td>\n",
       "      <td>Australia</td>\n",
       "      <td>Developed</td>\n",
       "      <td>Not Member</td>\n",
       "      <td>National Currency</td>\n",
       "      <td>74.8</td>\n",
       "      <td>77.6</td>\n",
       "      <td>1.50</td>\n",
       "      <td>66.80</td>\n",
       "    </tr>\n",
       "    <tr>\n",
       "      <th>21</th>\n",
       "      <td>25</td>\n",
       "      <td>Iceland</td>\n",
       "      <td>Developed</td>\n",
       "      <td>Not Member</td>\n",
       "      <td>National Currency</td>\n",
       "      <td>68.0</td>\n",
       "      <td>70.4</td>\n",
       "      <td>1.60</td>\n",
       "      <td>82.30</td>\n",
       "    </tr>\n",
       "    <tr>\n",
       "      <th>22</th>\n",
       "      <td>32</td>\n",
       "      <td>Japan</td>\n",
       "      <td>Developed</td>\n",
       "      <td>Not Member</td>\n",
       "      <td>National Currency</td>\n",
       "      <td>40.0</td>\n",
       "      <td>49.5</td>\n",
       "      <td>0.80</td>\n",
       "      <td>64.70</td>\n",
       "    </tr>\n",
       "    <tr>\n",
       "      <th>23</th>\n",
       "      <td>40</td>\n",
       "      <td>Norway</td>\n",
       "      <td>Developed</td>\n",
       "      <td>Not Member</td>\n",
       "      <td>National Currency</td>\n",
       "      <td>66.3</td>\n",
       "      <td>65.6</td>\n",
       "      <td>2.17</td>\n",
       "      <td>69.20</td>\n",
       "    </tr>\n",
       "    <tr>\n",
       "      <th>24</th>\n",
       "      <td>49</td>\n",
       "      <td>Singapore</td>\n",
       "      <td>Developed</td>\n",
       "      <td>Not Member</td>\n",
       "      <td>National Currency</td>\n",
       "      <td>59.8</td>\n",
       "      <td>68.1</td>\n",
       "      <td>-0.50</td>\n",
       "      <td>59.18</td>\n",
       "    </tr>\n",
       "    <tr>\n",
       "      <th>25</th>\n",
       "      <td>55</td>\n",
       "      <td>Switzerland</td>\n",
       "      <td>Developed</td>\n",
       "      <td>Not Member</td>\n",
       "      <td>National Currency</td>\n",
       "      <td>63.7</td>\n",
       "      <td>68.6</td>\n",
       "      <td>-1.10</td>\n",
       "      <td>74.70</td>\n",
       "    </tr>\n",
       "    <tr>\n",
       "      <th>26</th>\n",
       "      <td>56</td>\n",
       "      <td>Taiwan</td>\n",
       "      <td>Developed</td>\n",
       "      <td>Not Member</td>\n",
       "      <td>National Currency</td>\n",
       "      <td>53.4</td>\n",
       "      <td>69.1</td>\n",
       "      <td>-0.61</td>\n",
       "      <td>55.00</td>\n",
       "    </tr>\n",
       "    <tr>\n",
       "      <th>27</th>\n",
       "      <td>1</td>\n",
       "      <td>Algeria</td>\n",
       "      <td>Developing</td>\n",
       "      <td>Not Member</td>\n",
       "      <td>National Currency</td>\n",
       "      <td>27.4</td>\n",
       "      <td>30.2</td>\n",
       "      <td>4.80</td>\n",
       "      <td>18.00</td>\n",
       "    </tr>\n",
       "    <tr>\n",
       "      <th>28</th>\n",
       "      <td>2</td>\n",
       "      <td>Argentina</td>\n",
       "      <td>Developing</td>\n",
       "      <td>Not Member</td>\n",
       "      <td>National Currency</td>\n",
       "      <td>35.7</td>\n",
       "      <td>37.2</td>\n",
       "      <td>26.50</td>\n",
       "      <td>47.30</td>\n",
       "    </tr>\n",
       "    <tr>\n",
       "      <th>29</th>\n",
       "      <td>7</td>\n",
       "      <td>Bolivia</td>\n",
       "      <td>Developing</td>\n",
       "      <td>Not Member</td>\n",
       "      <td>National Currency</td>\n",
       "      <td>29.7</td>\n",
       "      <td>28.0</td>\n",
       "      <td>4.10</td>\n",
       "      <td>69.40</td>\n",
       "    </tr>\n",
       "    <tr>\n",
       "      <th>30</th>\n",
       "      <td>8</td>\n",
       "      <td>Bosnia and Herzegovina</td>\n",
       "      <td>Developing</td>\n",
       "      <td>Not Member</td>\n",
       "      <td>National Currency</td>\n",
       "      <td>31.6</td>\n",
       "      <td>28.9</td>\n",
       "      <td>-1.00</td>\n",
       "      <td>51.90</td>\n",
       "    </tr>\n",
       "    <tr>\n",
       "      <th>31</th>\n",
       "      <td>9</td>\n",
       "      <td>Brazil</td>\n",
       "      <td>Developing</td>\n",
       "      <td>Not Member</td>\n",
       "      <td>National Currency</td>\n",
       "      <td>31.1</td>\n",
       "      <td>25.8</td>\n",
       "      <td>10.67</td>\n",
       "      <td>55.90</td>\n",
       "    </tr>\n",
       "    <tr>\n",
       "      <th>32</th>\n",
       "      <td>10</td>\n",
       "      <td>China</td>\n",
       "      <td>Developing</td>\n",
       "      <td>Not Member</td>\n",
       "      <td>National Currency</td>\n",
       "      <td>38.3</td>\n",
       "      <td>36.4</td>\n",
       "      <td>1.40</td>\n",
       "      <td>62.40</td>\n",
       "    </tr>\n",
       "    <tr>\n",
       "      <th>33</th>\n",
       "      <td>11</td>\n",
       "      <td>Costa Rica</td>\n",
       "      <td>Developing</td>\n",
       "      <td>Not Member</td>\n",
       "      <td>National Currency</td>\n",
       "      <td>36.1</td>\n",
       "      <td>37.7</td>\n",
       "      <td>0.80</td>\n",
       "      <td>59.40</td>\n",
       "    </tr>\n",
       "    <tr>\n",
       "      <th>34</th>\n",
       "      <td>14</td>\n",
       "      <td>Ecuador</td>\n",
       "      <td>Developing</td>\n",
       "      <td>Not Member</td>\n",
       "      <td>National Currency</td>\n",
       "      <td>32.3</td>\n",
       "      <td>28.2</td>\n",
       "      <td>-0.50</td>\n",
       "      <td>63.50</td>\n",
       "    </tr>\n",
       "    <tr>\n",
       "      <th>35</th>\n",
       "      <td>15</td>\n",
       "      <td>Egypt</td>\n",
       "      <td>Developing</td>\n",
       "      <td>Not Member</td>\n",
       "      <td>National Currency</td>\n",
       "      <td>27.7</td>\n",
       "      <td>28.1</td>\n",
       "      <td>11.00</td>\n",
       "      <td>64.60</td>\n",
       "    </tr>\n",
       "    <tr>\n",
       "      <th>36</th>\n",
       "      <td>16</td>\n",
       "      <td>El Salvador</td>\n",
       "      <td>Developing</td>\n",
       "      <td>Not Member</td>\n",
       "      <td>National Currency</td>\n",
       "      <td>29.9</td>\n",
       "      <td>29.6</td>\n",
       "      <td>-2.25</td>\n",
       "      <td>55.70</td>\n",
       "    </tr>\n",
       "    <tr>\n",
       "      <th>37</th>\n",
       "      <td>21</td>\n",
       "      <td>Ghana</td>\n",
       "      <td>Developing</td>\n",
       "      <td>Not Member</td>\n",
       "      <td>National Currency</td>\n",
       "      <td>25.8</td>\n",
       "      <td>24.8</td>\n",
       "      <td>17.20</td>\n",
       "      <td>60.80</td>\n",
       "    </tr>\n",
       "    <tr>\n",
       "      <th>38</th>\n",
       "      <td>26</td>\n",
       "      <td>India</td>\n",
       "      <td>Developing</td>\n",
       "      <td>Not Member</td>\n",
       "      <td>National Currency</td>\n",
       "      <td>25.3</td>\n",
       "      <td>25.3</td>\n",
       "      <td>5.90</td>\n",
       "      <td>61.10</td>\n",
       "    </tr>\n",
       "    <tr>\n",
       "      <th>39</th>\n",
       "      <td>31</td>\n",
       "      <td>Jamaica</td>\n",
       "      <td>Developing</td>\n",
       "      <td>Not Member</td>\n",
       "      <td>National Currency</td>\n",
       "      <td>38.6</td>\n",
       "      <td>27.2</td>\n",
       "      <td>3.70</td>\n",
       "      <td>37.70</td>\n",
       "    </tr>\n",
       "    <tr>\n",
       "      <th>40</th>\n",
       "      <td>36</td>\n",
       "      <td>Macedonia</td>\n",
       "      <td>Developing</td>\n",
       "      <td>Not Member</td>\n",
       "      <td>National Currency</td>\n",
       "      <td>41.2</td>\n",
       "      <td>37.1</td>\n",
       "      <td>3.70</td>\n",
       "      <td>73.00</td>\n",
       "    </tr>\n",
       "    <tr>\n",
       "      <th>41</th>\n",
       "      <td>37</td>\n",
       "      <td>Malaysia</td>\n",
       "      <td>Developing</td>\n",
       "      <td>Not Member</td>\n",
       "      <td>National Currency</td>\n",
       "      <td>39.2</td>\n",
       "      <td>40.0</td>\n",
       "      <td>2.30</td>\n",
       "      <td>58.50</td>\n",
       "    </tr>\n",
       "    <tr>\n",
       "      <th>42</th>\n",
       "      <td>38</td>\n",
       "      <td>Mexico</td>\n",
       "      <td>Developing</td>\n",
       "      <td>Not Member</td>\n",
       "      <td>National Currency</td>\n",
       "      <td>42.8</td>\n",
       "      <td>30.7</td>\n",
       "      <td>2.70</td>\n",
       "      <td>44.70</td>\n",
       "    </tr>\n",
       "    <tr>\n",
       "      <th>43</th>\n",
       "      <td>42</td>\n",
       "      <td>Panama</td>\n",
       "      <td>Developing</td>\n",
       "      <td>Not Member</td>\n",
       "      <td>National Currency</td>\n",
       "      <td>36.9</td>\n",
       "      <td>32.2</td>\n",
       "      <td>0.10</td>\n",
       "      <td>67.90</td>\n",
       "    </tr>\n",
       "    <tr>\n",
       "      <th>44</th>\n",
       "      <td>43</td>\n",
       "      <td>Peru</td>\n",
       "      <td>Developing</td>\n",
       "      <td>Not Member</td>\n",
       "      <td>National Currency</td>\n",
       "      <td>43.6</td>\n",
       "      <td>30.9</td>\n",
       "      <td>3.50</td>\n",
       "      <td>63.40</td>\n",
       "    </tr>\n",
       "    <tr>\n",
       "      <th>45</th>\n",
       "      <td>47</td>\n",
       "      <td>Russia</td>\n",
       "      <td>Developing</td>\n",
       "      <td>Not Member</td>\n",
       "      <td>National Currency</td>\n",
       "      <td>35.6</td>\n",
       "      <td>31.7</td>\n",
       "      <td>15.50</td>\n",
       "      <td>65.20</td>\n",
       "    </tr>\n",
       "    <tr>\n",
       "      <th>46</th>\n",
       "      <td>48</td>\n",
       "      <td>Saudi Arabia</td>\n",
       "      <td>Developing</td>\n",
       "      <td>Not Member</td>\n",
       "      <td>National Currency</td>\n",
       "      <td>37.0</td>\n",
       "      <td>49.6</td>\n",
       "      <td>1.20</td>\n",
       "      <td>13.00</td>\n",
       "    </tr>\n",
       "    <tr>\n",
       "      <th>47</th>\n",
       "      <td>57</td>\n",
       "      <td>Thailand</td>\n",
       "      <td>Developing</td>\n",
       "      <td>Not Member</td>\n",
       "      <td>National Currency</td>\n",
       "      <td>36.6</td>\n",
       "      <td>32.1</td>\n",
       "      <td>-0.90</td>\n",
       "      <td>62.00</td>\n",
       "    </tr>\n",
       "    <tr>\n",
       "      <th>48</th>\n",
       "      <td>58</td>\n",
       "      <td>Tunisia</td>\n",
       "      <td>Developing</td>\n",
       "      <td>Not Member</td>\n",
       "      <td>National Currency</td>\n",
       "      <td>30.7</td>\n",
       "      <td>35.5</td>\n",
       "      <td>4.80</td>\n",
       "      <td>25.19</td>\n",
       "    </tr>\n",
       "    <tr>\n",
       "      <th>49</th>\n",
       "      <td>59</td>\n",
       "      <td>Turkey</td>\n",
       "      <td>Developing</td>\n",
       "      <td>Not Member</td>\n",
       "      <td>National Currency</td>\n",
       "      <td>39.3</td>\n",
       "      <td>54.6</td>\n",
       "      <td>7.70</td>\n",
       "      <td>30.40</td>\n",
       "    </tr>\n",
       "    <tr>\n",
       "      <th>50</th>\n",
       "      <td>60</td>\n",
       "      <td>Uruguay</td>\n",
       "      <td>Developing</td>\n",
       "      <td>Not Member</td>\n",
       "      <td>National Currency</td>\n",
       "      <td>44.5</td>\n",
       "      <td>41.4</td>\n",
       "      <td>8.67</td>\n",
       "      <td>68.00</td>\n",
       "    </tr>\n",
       "  </tbody>\n",
       "</table>\n",
       "</div>"
      ],
      "text/plain": [
       "    No                 Country Level of development European Union Membership  \\\n",
       "0    4                 Austria            Developed                    Member   \n",
       "1    6                 Belgium            Developed                    Member   \n",
       "2   17                 Estonia            Developed                    Member   \n",
       "3   18                 Finland            Developed                    Member   \n",
       "4   19                  France            Developed                    Member   \n",
       "5   20                 Germany            Developed                    Member   \n",
       "6   22                  Greece            Developed                    Member   \n",
       "7   28                 Ireland            Developed                    Member   \n",
       "8   30                   Italy            Developed                    Member   \n",
       "9   34                  Latvia            Developed                    Member   \n",
       "10  35               Lithuania            Developed                    Member   \n",
       "11  39             Netherlands            Developed                    Member   \n",
       "12  50                Slovakia            Developed                    Member   \n",
       "13  51                Slovenia            Developed                    Member   \n",
       "14  53                   Spain            Developed                    Member   \n",
       "15  12                 Croatia            Developed                    Member   \n",
       "16  13                 Denmark            Developed                    Member   \n",
       "17  24                 Hungary            Developed                    Member   \n",
       "18  44                  Poland            Developed                    Member   \n",
       "19  54                  Sweden            Developed                    Member   \n",
       "20   3               Australia            Developed                Not Member   \n",
       "21  25                 Iceland            Developed                Not Member   \n",
       "22  32                   Japan            Developed                Not Member   \n",
       "23  40                  Norway            Developed                Not Member   \n",
       "24  49               Singapore            Developed                Not Member   \n",
       "25  55             Switzerland            Developed                Not Member   \n",
       "26  56                  Taiwan            Developed                Not Member   \n",
       "27   1                 Algeria           Developing                Not Member   \n",
       "28   2               Argentina           Developing                Not Member   \n",
       "29   7                 Bolivia           Developing                Not Member   \n",
       "30   8  Bosnia and Herzegovina           Developing                Not Member   \n",
       "31   9                  Brazil           Developing                Not Member   \n",
       "32  10                   China           Developing                Not Member   \n",
       "33  11              Costa Rica           Developing                Not Member   \n",
       "34  14                 Ecuador           Developing                Not Member   \n",
       "35  15                   Egypt           Developing                Not Member   \n",
       "36  16             El Salvador           Developing                Not Member   \n",
       "37  21                   Ghana           Developing                Not Member   \n",
       "38  26                   India           Developing                Not Member   \n",
       "39  31                 Jamaica           Developing                Not Member   \n",
       "40  36               Macedonia           Developing                Not Member   \n",
       "41  37                Malaysia           Developing                Not Member   \n",
       "42  38                  Mexico           Developing                Not Member   \n",
       "43  42                  Panama           Developing                Not Member   \n",
       "44  43                    Peru           Developing                Not Member   \n",
       "45  47                  Russia           Developing                Not Member   \n",
       "46  48            Saudi Arabia           Developing                Not Member   \n",
       "47  57                Thailand           Developing                Not Member   \n",
       "48  58                 Tunisia           Developing                Not Member   \n",
       "49  59                  Turkey           Developing                Not Member   \n",
       "50  60                 Uruguay           Developing                Not Member   \n",
       "\n",
       "             Currency  Women Entrepreneurship Index  Entrepreneurship Index  \\\n",
       "0                Euro                          54.9                    64.9   \n",
       "1                Euro                          63.6                    65.5   \n",
       "2                Euro                          55.4                    60.2   \n",
       "3                Euro                          66.4                    65.7   \n",
       "4                Euro                          68.8                    67.3   \n",
       "5                Euro                          63.6                    67.4   \n",
       "6                Euro                          43.0                    42.0   \n",
       "7                Euro                          64.3                    65.3   \n",
       "8                Euro                          51.4                    41.3   \n",
       "9                Euro                          56.6                    54.5   \n",
       "10               Euro                          58.5                    54.6   \n",
       "11               Euro                          69.3                    66.5   \n",
       "12               Euro                          54.8                    45.4   \n",
       "13               Euro                          55.9                    53.1   \n",
       "14               Euro                          52.5                    49.6   \n",
       "15  National Currency                          49.9                    40.6   \n",
       "16  National Currency                          69.7                    71.4   \n",
       "17  National Currency                          53.7                    42.7   \n",
       "18  National Currency                          57.7                    47.4   \n",
       "19  National Currency                          66.7                    71.8   \n",
       "20  National Currency                          74.8                    77.6   \n",
       "21  National Currency                          68.0                    70.4   \n",
       "22  National Currency                          40.0                    49.5   \n",
       "23  National Currency                          66.3                    65.6   \n",
       "24  National Currency                          59.8                    68.1   \n",
       "25  National Currency                          63.7                    68.6   \n",
       "26  National Currency                          53.4                    69.1   \n",
       "27  National Currency                          27.4                    30.2   \n",
       "28  National Currency                          35.7                    37.2   \n",
       "29  National Currency                          29.7                    28.0   \n",
       "30  National Currency                          31.6                    28.9   \n",
       "31  National Currency                          31.1                    25.8   \n",
       "32  National Currency                          38.3                    36.4   \n",
       "33  National Currency                          36.1                    37.7   \n",
       "34  National Currency                          32.3                    28.2   \n",
       "35  National Currency                          27.7                    28.1   \n",
       "36  National Currency                          29.9                    29.6   \n",
       "37  National Currency                          25.8                    24.8   \n",
       "38  National Currency                          25.3                    25.3   \n",
       "39  National Currency                          38.6                    27.2   \n",
       "40  National Currency                          41.2                    37.1   \n",
       "41  National Currency                          39.2                    40.0   \n",
       "42  National Currency                          42.8                    30.7   \n",
       "43  National Currency                          36.9                    32.2   \n",
       "44  National Currency                          43.6                    30.9   \n",
       "45  National Currency                          35.6                    31.7   \n",
       "46  National Currency                          37.0                    49.6   \n",
       "47  National Currency                          36.6                    32.1   \n",
       "48  National Currency                          30.7                    35.5   \n",
       "49  National Currency                          39.3                    54.6   \n",
       "50  National Currency                          44.5                    41.4   \n",
       "\n",
       "    Inflation rate  Female Labor Force Participation Rate  \n",
       "0             0.90                                  67.10  \n",
       "1             0.60                                  58.00  \n",
       "2            -0.88                                  68.50  \n",
       "3            -0.20                                  67.70  \n",
       "4             0.00                                  60.60  \n",
       "5             0.50                                  69.90  \n",
       "6            -1.70                                  42.50  \n",
       "7            -0.30                                  59.40  \n",
       "8             0.00                                  47.20  \n",
       "9             0.20                                  66.40  \n",
       "10           -0.90                                  66.50  \n",
       "11            0.60                                  69.20  \n",
       "12           -0.30                                  55.90  \n",
       "13           -0.50                                  61.00  \n",
       "14           -0.50                                  52.70  \n",
       "15           -0.50                                  60.40  \n",
       "16            0.50                                  70.30  \n",
       "17           -0.10                                  57.80  \n",
       "18           -0.90                                  56.60  \n",
       "19            0.00                                  74.00  \n",
       "20            1.50                                  66.80  \n",
       "21            1.60                                  82.30  \n",
       "22            0.80                                  64.70  \n",
       "23            2.17                                  69.20  \n",
       "24           -0.50                                  59.18  \n",
       "25           -1.10                                  74.70  \n",
       "26           -0.61                                  55.00  \n",
       "27            4.80                                  18.00  \n",
       "28           26.50                                  47.30  \n",
       "29            4.10                                  69.40  \n",
       "30           -1.00                                  51.90  \n",
       "31           10.67                                  55.90  \n",
       "32            1.40                                  62.40  \n",
       "33            0.80                                  59.40  \n",
       "34           -0.50                                  63.50  \n",
       "35           11.00                                  64.60  \n",
       "36           -2.25                                  55.70  \n",
       "37           17.20                                  60.80  \n",
       "38            5.90                                  61.10  \n",
       "39            3.70                                  37.70  \n",
       "40            3.70                                  73.00  \n",
       "41            2.30                                  58.50  \n",
       "42            2.70                                  44.70  \n",
       "43            0.10                                  67.90  \n",
       "44            3.50                                  63.40  \n",
       "45           15.50                                  65.20  \n",
       "46            1.20                                  13.00  \n",
       "47           -0.90                                  62.00  \n",
       "48            4.80                                  25.19  \n",
       "49            7.70                                  30.40  \n",
       "50            8.67                                  68.00  "
      ]
     },
     "execution_count": 8,
     "metadata": {},
     "output_type": "execute_result"
    }
   ],
   "source": [
    "data"
   ]
  },
  {
   "cell_type": "code",
   "execution_count": 9,
   "metadata": {
    "execution": {
     "iopub.execute_input": "2020-11-28T18:08:22.453897Z",
     "iopub.status.busy": "2020-11-28T18:08:22.453184Z",
     "iopub.status.idle": "2020-11-28T18:08:22.457956Z",
     "shell.execute_reply": "2020-11-28T18:08:22.457371Z"
    },
    "papermill": {
     "duration": 0.044848,
     "end_time": "2020-11-28T18:08:22.458077",
     "exception": false,
     "start_time": "2020-11-28T18:08:22.413229",
     "status": "completed"
    },
    "tags": []
   },
   "outputs": [
    {
     "data": {
      "text/plain": [
       "Developed     27\n",
       "Developing    24\n",
       "Name: Level of development, dtype: int64"
      ]
     },
     "execution_count": 9,
     "metadata": {},
     "output_type": "execute_result"
    }
   ],
   "source": [
    "data['Level of development'].value_counts()"
   ]
  },
  {
   "cell_type": "code",
   "execution_count": 10,
   "metadata": {
    "execution": {
     "iopub.execute_input": "2020-11-28T18:08:22.531036Z",
     "iopub.status.busy": "2020-11-28T18:08:22.530374Z",
     "iopub.status.idle": "2020-11-28T18:08:22.536150Z",
     "shell.execute_reply": "2020-11-28T18:08:22.536723Z"
    },
    "papermill": {
     "duration": 0.045901,
     "end_time": "2020-11-28T18:08:22.536871",
     "exception": false,
     "start_time": "2020-11-28T18:08:22.490970",
     "status": "completed"
    },
    "tags": []
   },
   "outputs": [
    {
     "data": {
      "text/plain": [
       "Not Member    31\n",
       "Member        20\n",
       "Name: European Union Membership, dtype: int64"
      ]
     },
     "execution_count": 10,
     "metadata": {},
     "output_type": "execute_result"
    }
   ],
   "source": [
    "data['European Union Membership'].value_counts()"
   ]
  },
  {
   "cell_type": "code",
   "execution_count": 11,
   "metadata": {
    "execution": {
     "iopub.execute_input": "2020-11-28T18:08:22.609006Z",
     "iopub.status.busy": "2020-11-28T18:08:22.608165Z",
     "iopub.status.idle": "2020-11-28T18:08:22.612537Z",
     "shell.execute_reply": "2020-11-28T18:08:22.613001Z"
    },
    "papermill": {
     "duration": 0.044032,
     "end_time": "2020-11-28T18:08:22.613137",
     "exception": false,
     "start_time": "2020-11-28T18:08:22.569105",
     "status": "completed"
    },
    "tags": []
   },
   "outputs": [
    {
     "data": {
      "text/plain": [
       "National Currency    36\n",
       "Euro                 15\n",
       "Name: Currency, dtype: int64"
      ]
     },
     "execution_count": 11,
     "metadata": {},
     "output_type": "execute_result"
    }
   ],
   "source": [
    "data['Currency'].value_counts()"
   ]
  },
  {
   "cell_type": "markdown",
   "metadata": {
    "papermill": {
     "duration": 0.03364,
     "end_time": "2020-11-28T18:08:22.681249",
     "exception": false,
     "start_time": "2020-11-28T18:08:22.647609",
     "status": "completed"
    },
    "tags": []
   },
   "source": [
    "## Importing Country Codes\n",
    "plotly requires country's alpha 3 codes for locating data in the world map. So we have to manually import from Github"
   ]
  },
  {
   "cell_type": "code",
   "execution_count": 12,
   "metadata": {
    "execution": {
     "iopub.execute_input": "2020-11-28T18:08:22.756163Z",
     "iopub.status.busy": "2020-11-28T18:08:22.755303Z",
     "iopub.status.idle": "2020-11-28T18:08:22.759523Z",
     "shell.execute_reply": "2020-11-28T18:08:22.758902Z"
    },
    "papermill": {
     "duration": 0.043868,
     "end_time": "2020-11-28T18:08:22.759626",
     "exception": false,
     "start_time": "2020-11-28T18:08:22.715758",
     "status": "completed"
    },
    "tags": []
   },
   "outputs": [],
   "source": [
    "import requests\n",
    "import io"
   ]
  },
  {
   "cell_type": "code",
   "execution_count": 13,
   "metadata": {
    "execution": {
     "iopub.execute_input": "2020-11-28T18:08:22.837409Z",
     "iopub.status.busy": "2020-11-28T18:08:22.836795Z",
     "iopub.status.idle": "2020-11-28T18:08:22.840642Z",
     "shell.execute_reply": "2020-11-28T18:08:22.840013Z"
    },
    "papermill": {
     "duration": 0.047016,
     "end_time": "2020-11-28T18:08:22.840751",
     "exception": false,
     "start_time": "2020-11-28T18:08:22.793735",
     "status": "completed"
    },
    "tags": []
   },
   "outputs": [],
   "source": [
    "url = \"https://raw.githubusercontent.com/lukes/ISO-3166-Countries-with-Regional-Codes/master/all/all.csv\""
   ]
  },
  {
   "cell_type": "code",
   "execution_count": 14,
   "metadata": {
    "execution": {
     "iopub.execute_input": "2020-11-28T18:08:22.943250Z",
     "iopub.status.busy": "2020-11-28T18:08:22.942324Z",
     "iopub.status.idle": "2020-11-28T18:08:23.409109Z",
     "shell.execute_reply": "2020-11-28T18:08:23.408242Z"
    },
    "papermill": {
     "duration": 0.529108,
     "end_time": "2020-11-28T18:08:23.409238",
     "exception": false,
     "start_time": "2020-11-28T18:08:22.880130",
     "status": "completed"
    },
    "tags": []
   },
   "outputs": [],
   "source": [
    "s=requests.get(url).content\n",
    "codes = pd.read_csv(io.StringIO(s.decode('utf-8')))"
   ]
  },
  {
   "cell_type": "code",
   "execution_count": 15,
   "metadata": {
    "execution": {
     "iopub.execute_input": "2020-11-28T18:08:23.492353Z",
     "iopub.status.busy": "2020-11-28T18:08:23.491745Z",
     "iopub.status.idle": "2020-11-28T18:08:23.498356Z",
     "shell.execute_reply": "2020-11-28T18:08:23.497875Z"
    },
    "papermill": {
     "duration": 0.05224,
     "end_time": "2020-11-28T18:08:23.498459",
     "exception": false,
     "start_time": "2020-11-28T18:08:23.446219",
     "status": "completed"
    },
    "tags": []
   },
   "outputs": [
    {
     "data": {
      "text/html": [
       "<div>\n",
       "<style scoped>\n",
       "    .dataframe tbody tr th:only-of-type {\n",
       "        vertical-align: middle;\n",
       "    }\n",
       "\n",
       "    .dataframe tbody tr th {\n",
       "        vertical-align: top;\n",
       "    }\n",
       "\n",
       "    .dataframe thead th {\n",
       "        text-align: right;\n",
       "    }\n",
       "</style>\n",
       "<table border=\"1\" class=\"dataframe\">\n",
       "  <thead>\n",
       "    <tr style=\"text-align: right;\">\n",
       "      <th></th>\n",
       "      <th>Country</th>\n",
       "      <th>Code</th>\n",
       "    </tr>\n",
       "  </thead>\n",
       "  <tbody>\n",
       "    <tr>\n",
       "      <th>0</th>\n",
       "      <td>Afghanistan</td>\n",
       "      <td>AFG</td>\n",
       "    </tr>\n",
       "    <tr>\n",
       "      <th>1</th>\n",
       "      <td>Åland Islands</td>\n",
       "      <td>ALA</td>\n",
       "    </tr>\n",
       "    <tr>\n",
       "      <th>2</th>\n",
       "      <td>Albania</td>\n",
       "      <td>ALB</td>\n",
       "    </tr>\n",
       "    <tr>\n",
       "      <th>3</th>\n",
       "      <td>Algeria</td>\n",
       "      <td>DZA</td>\n",
       "    </tr>\n",
       "    <tr>\n",
       "      <th>4</th>\n",
       "      <td>American Samoa</td>\n",
       "      <td>ASM</td>\n",
       "    </tr>\n",
       "  </tbody>\n",
       "</table>\n",
       "</div>"
      ],
      "text/plain": [
       "          Country Code\n",
       "0     Afghanistan  AFG\n",
       "1   Åland Islands  ALA\n",
       "2         Albania  ALB\n",
       "3         Algeria  DZA\n",
       "4  American Samoa  ASM"
      ]
     },
     "execution_count": 15,
     "metadata": {},
     "output_type": "execute_result"
    }
   ],
   "source": [
    "codes = codes[['name','alpha-3']]\n",
    "codes.columns = ['Country','Code']\n",
    "codes.head()"
   ]
  },
  {
   "cell_type": "code",
   "execution_count": 16,
   "metadata": {
    "execution": {
     "iopub.execute_input": "2020-11-28T18:08:23.597810Z",
     "iopub.status.busy": "2020-11-28T18:08:23.596916Z",
     "iopub.status.idle": "2020-11-28T18:08:23.602259Z",
     "shell.execute_reply": "2020-11-28T18:08:23.601741Z"
    },
    "papermill": {
     "duration": 0.069934,
     "end_time": "2020-11-28T18:08:23.602377",
     "exception": false,
     "start_time": "2020-11-28T18:08:23.532443",
     "status": "completed"
    },
    "tags": []
   },
   "outputs": [
    {
     "data": {
      "text/html": [
       "<div>\n",
       "<style scoped>\n",
       "    .dataframe tbody tr th:only-of-type {\n",
       "        vertical-align: middle;\n",
       "    }\n",
       "\n",
       "    .dataframe tbody tr th {\n",
       "        vertical-align: top;\n",
       "    }\n",
       "\n",
       "    .dataframe thead th {\n",
       "        text-align: right;\n",
       "    }\n",
       "</style>\n",
       "<table border=\"1\" class=\"dataframe\">\n",
       "  <thead>\n",
       "    <tr style=\"text-align: right;\">\n",
       "      <th></th>\n",
       "      <th>No</th>\n",
       "      <th>Country</th>\n",
       "      <th>Level of development</th>\n",
       "      <th>European Union Membership</th>\n",
       "      <th>Currency</th>\n",
       "      <th>Women Entrepreneurship Index</th>\n",
       "      <th>Entrepreneurship Index</th>\n",
       "      <th>Inflation rate</th>\n",
       "      <th>Female Labor Force Participation Rate</th>\n",
       "      <th>Code</th>\n",
       "    </tr>\n",
       "  </thead>\n",
       "  <tbody>\n",
       "    <tr>\n",
       "      <th>0</th>\n",
       "      <td>4</td>\n",
       "      <td>Austria</td>\n",
       "      <td>Developed</td>\n",
       "      <td>Member</td>\n",
       "      <td>Euro</td>\n",
       "      <td>54.9</td>\n",
       "      <td>64.9</td>\n",
       "      <td>0.90</td>\n",
       "      <td>67.1</td>\n",
       "      <td>AUT</td>\n",
       "    </tr>\n",
       "    <tr>\n",
       "      <th>1</th>\n",
       "      <td>6</td>\n",
       "      <td>Belgium</td>\n",
       "      <td>Developed</td>\n",
       "      <td>Member</td>\n",
       "      <td>Euro</td>\n",
       "      <td>63.6</td>\n",
       "      <td>65.5</td>\n",
       "      <td>0.60</td>\n",
       "      <td>58.0</td>\n",
       "      <td>BEL</td>\n",
       "    </tr>\n",
       "    <tr>\n",
       "      <th>2</th>\n",
       "      <td>17</td>\n",
       "      <td>Estonia</td>\n",
       "      <td>Developed</td>\n",
       "      <td>Member</td>\n",
       "      <td>Euro</td>\n",
       "      <td>55.4</td>\n",
       "      <td>60.2</td>\n",
       "      <td>-0.88</td>\n",
       "      <td>68.5</td>\n",
       "      <td>EST</td>\n",
       "    </tr>\n",
       "    <tr>\n",
       "      <th>3</th>\n",
       "      <td>18</td>\n",
       "      <td>Finland</td>\n",
       "      <td>Developed</td>\n",
       "      <td>Member</td>\n",
       "      <td>Euro</td>\n",
       "      <td>66.4</td>\n",
       "      <td>65.7</td>\n",
       "      <td>-0.20</td>\n",
       "      <td>67.7</td>\n",
       "      <td>FIN</td>\n",
       "    </tr>\n",
       "    <tr>\n",
       "      <th>4</th>\n",
       "      <td>19</td>\n",
       "      <td>France</td>\n",
       "      <td>Developed</td>\n",
       "      <td>Member</td>\n",
       "      <td>Euro</td>\n",
       "      <td>68.8</td>\n",
       "      <td>67.3</td>\n",
       "      <td>0.00</td>\n",
       "      <td>60.6</td>\n",
       "      <td>FRA</td>\n",
       "    </tr>\n",
       "  </tbody>\n",
       "</table>\n",
       "</div>"
      ],
      "text/plain": [
       "   No  Country Level of development European Union Membership Currency  \\\n",
       "0   4  Austria            Developed                    Member     Euro   \n",
       "1   6  Belgium            Developed                    Member     Euro   \n",
       "2  17  Estonia            Developed                    Member     Euro   \n",
       "3  18  Finland            Developed                    Member     Euro   \n",
       "4  19   France            Developed                    Member     Euro   \n",
       "\n",
       "   Women Entrepreneurship Index  Entrepreneurship Index  Inflation rate  \\\n",
       "0                          54.9                    64.9            0.90   \n",
       "1                          63.6                    65.5            0.60   \n",
       "2                          55.4                    60.2           -0.88   \n",
       "3                          66.4                    65.7           -0.20   \n",
       "4                          68.8                    67.3            0.00   \n",
       "\n",
       "   Female Labor Force Participation Rate Code  \n",
       "0                                   67.1  AUT  \n",
       "1                                   58.0  BEL  \n",
       "2                                   68.5  EST  \n",
       "3                                   67.7  FIN  \n",
       "4                                   60.6  FRA  "
      ]
     },
     "execution_count": 16,
     "metadata": {},
     "output_type": "execute_result"
    }
   ],
   "source": [
    "data = pd.merge(data,codes,on = 'Country')\n",
    "data.head()"
   ]
  },
  {
   "cell_type": "code",
   "execution_count": 17,
   "metadata": {
    "execution": {
     "iopub.execute_input": "2020-11-28T18:08:23.681099Z",
     "iopub.status.busy": "2020-11-28T18:08:23.679976Z",
     "iopub.status.idle": "2020-11-28T18:08:23.683766Z",
     "shell.execute_reply": "2020-11-28T18:08:23.684228Z"
    },
    "papermill": {
     "duration": 0.046123,
     "end_time": "2020-11-28T18:08:23.684362",
     "exception": false,
     "start_time": "2020-11-28T18:08:23.638239",
     "status": "completed"
    },
    "tags": []
   },
   "outputs": [],
   "source": [
    "data = data.drop('No',axis = 1)"
   ]
  },
  {
   "cell_type": "markdown",
   "metadata": {
    "papermill": {
     "duration": 0.034283,
     "end_time": "2020-11-28T18:08:23.753593",
     "exception": false,
     "start_time": "2020-11-28T18:08:23.719310",
     "status": "completed"
    },
    "tags": []
   },
   "source": [
    "# Exploratory Data Analysis"
   ]
  },
  {
   "cell_type": "code",
   "execution_count": 18,
   "metadata": {
    "execution": {
     "iopub.execute_input": "2020-11-28T18:08:23.832448Z",
     "iopub.status.busy": "2020-11-28T18:08:23.831872Z",
     "iopub.status.idle": "2020-11-28T18:08:23.856423Z",
     "shell.execute_reply": "2020-11-28T18:08:23.856904Z"
    },
    "papermill": {
     "duration": 0.068392,
     "end_time": "2020-11-28T18:08:23.857032",
     "exception": false,
     "start_time": "2020-11-28T18:08:23.788640",
     "status": "completed"
    },
    "tags": []
   },
   "outputs": [
    {
     "data": {
      "text/html": [
       "<div>\n",
       "<style scoped>\n",
       "    .dataframe tbody tr th:only-of-type {\n",
       "        vertical-align: middle;\n",
       "    }\n",
       "\n",
       "    .dataframe tbody tr th {\n",
       "        vertical-align: top;\n",
       "    }\n",
       "\n",
       "    .dataframe thead th {\n",
       "        text-align: right;\n",
       "    }\n",
       "</style>\n",
       "<table border=\"1\" class=\"dataframe\">\n",
       "  <thead>\n",
       "    <tr style=\"text-align: right;\">\n",
       "      <th></th>\n",
       "      <th>Women Entrepreneurship Index</th>\n",
       "      <th>Entrepreneurship Index</th>\n",
       "      <th>Inflation rate</th>\n",
       "      <th>Female Labor Force Participation Rate</th>\n",
       "    </tr>\n",
       "  </thead>\n",
       "  <tbody>\n",
       "    <tr>\n",
       "      <th>count</th>\n",
       "      <td>47.000000</td>\n",
       "      <td>47.000000</td>\n",
       "      <td>47.000000</td>\n",
       "      <td>47.000000</td>\n",
       "    </tr>\n",
       "    <tr>\n",
       "      <th>mean</th>\n",
       "      <td>48.504255</td>\n",
       "      <td>47.731915</td>\n",
       "      <td>2.325106</td>\n",
       "      <td>57.871702</td>\n",
       "    </tr>\n",
       "    <tr>\n",
       "      <th>std</th>\n",
       "      <td>14.449958</td>\n",
       "      <td>16.088871</td>\n",
       "      <td>5.241652</td>\n",
       "      <td>14.147188</td>\n",
       "    </tr>\n",
       "    <tr>\n",
       "      <th>min</th>\n",
       "      <td>25.300000</td>\n",
       "      <td>24.800000</td>\n",
       "      <td>-2.250000</td>\n",
       "      <td>13.000000</td>\n",
       "    </tr>\n",
       "    <tr>\n",
       "      <th>25%</th>\n",
       "      <td>36.750000</td>\n",
       "      <td>32.150000</td>\n",
       "      <td>-0.500000</td>\n",
       "      <td>55.800000</td>\n",
       "    </tr>\n",
       "    <tr>\n",
       "      <th>50%</th>\n",
       "      <td>49.900000</td>\n",
       "      <td>45.400000</td>\n",
       "      <td>0.500000</td>\n",
       "      <td>60.800000</td>\n",
       "    </tr>\n",
       "    <tr>\n",
       "      <th>75%</th>\n",
       "      <td>61.700000</td>\n",
       "      <td>65.400000</td>\n",
       "      <td>2.500000</td>\n",
       "      <td>66.950000</td>\n",
       "    </tr>\n",
       "    <tr>\n",
       "      <th>max</th>\n",
       "      <td>74.800000</td>\n",
       "      <td>77.600000</td>\n",
       "      <td>26.500000</td>\n",
       "      <td>82.300000</td>\n",
       "    </tr>\n",
       "  </tbody>\n",
       "</table>\n",
       "</div>"
      ],
      "text/plain": [
       "       Women Entrepreneurship Index  Entrepreneurship Index  Inflation rate  \\\n",
       "count                     47.000000               47.000000       47.000000   \n",
       "mean                      48.504255               47.731915        2.325106   \n",
       "std                       14.449958               16.088871        5.241652   \n",
       "min                       25.300000               24.800000       -2.250000   \n",
       "25%                       36.750000               32.150000       -0.500000   \n",
       "50%                       49.900000               45.400000        0.500000   \n",
       "75%                       61.700000               65.400000        2.500000   \n",
       "max                       74.800000               77.600000       26.500000   \n",
       "\n",
       "       Female Labor Force Participation Rate  \n",
       "count                              47.000000  \n",
       "mean                               57.871702  \n",
       "std                                14.147188  \n",
       "min                                13.000000  \n",
       "25%                                55.800000  \n",
       "50%                                60.800000  \n",
       "75%                                66.950000  \n",
       "max                                82.300000  "
      ]
     },
     "execution_count": 18,
     "metadata": {},
     "output_type": "execute_result"
    }
   ],
   "source": [
    "data.describe()"
   ]
  },
  {
   "cell_type": "markdown",
   "metadata": {
    "papermill": {
     "duration": 0.034993,
     "end_time": "2020-11-28T18:08:23.928342",
     "exception": false,
     "start_time": "2020-11-28T18:08:23.893349",
     "status": "completed"
    },
    "tags": []
   },
   "source": [
    "## Correlation Heatmap "
   ]
  },
  {
   "cell_type": "code",
   "execution_count": 19,
   "metadata": {
    "execution": {
     "iopub.execute_input": "2020-11-28T18:08:24.003842Z",
     "iopub.status.busy": "2020-11-28T18:08:24.003224Z",
     "iopub.status.idle": "2020-11-28T18:08:24.348711Z",
     "shell.execute_reply": "2020-11-28T18:08:24.348183Z"
    },
    "papermill": {
     "duration": 0.385233,
     "end_time": "2020-11-28T18:08:24.348832",
     "exception": false,
     "start_time": "2020-11-28T18:08:23.963599",
     "status": "completed"
    },
    "tags": []
   },
   "outputs": [
    {
     "data": {
      "image/png": "[encoded data removed]",
      "text/plain": [
       "<Figure size 720x432 with 2 Axes>"
      ]
     },
     "metadata": {},
     "output_type": "display_data"
    }
   ],
   "source": [
    "plt.figure(figsize=(10,6))\n",
    "sns.heatmap(data.corr(),vmax = 1,vmin = -1,cmap = 'coolwarm');"
   ]
  },
  {
   "cell_type": "markdown",
   "metadata": {
    "papermill": {
     "duration": 0.036419,
     "end_time": "2020-11-28T18:08:24.422592",
     "exception": false,
     "start_time": "2020-11-28T18:08:24.386173",
     "status": "completed"
    },
    "tags": []
   },
   "source": [
    "# Woman Entrepreneurship Indices in the World"
   ]
  },
  {
   "cell_type": "code",
   "execution_count": 20,
   "metadata": {
    "execution": {
     "iopub.execute_input": "2020-11-28T18:08:24.502250Z",
     "iopub.status.busy": "2020-11-28T18:08:24.501666Z",
     "iopub.status.idle": "2020-11-28T18:08:25.587561Z",
     "shell.execute_reply": "2020-11-28T18:08:25.586883Z"
    },
    "papermill": {
     "duration": 1.128052,
     "end_time": "2020-11-28T18:08:25.587691",
     "exception": false,
     "start_time": "2020-11-28T18:08:24.459639",
     "status": "completed"
    },
    "tags": []
   },
   "outputs": [
    {
     "data": {
      "text/html": [
       "        <script type=\"text/javascript\">\n",
       "        window.PlotlyConfig = {MathJaxConfig: 'local'};\n",
       "        if (window.MathJax) {MathJax.Hub.Config({SVG: {font: \"STIX-Web\"}});}\n",
       "        if (typeof require !== 'undefined') {\n",
       "        require.undef(\"plotly\");\n",
       "        requirejs.config({\n",
       "            paths: {\n",
       "                'plotly': ['https://cdn.plot.ly/plotly-latest.min']\n",
       "            }\n",
       "        });\n",
       "        require(['plotly'], function(Plotly) {\n",
       "            window._Plotly = Plotly;\n",
       "        });\n",
       "        }\n",
       "        </script>\n",
       "        "
      ]
     },
     "metadata": {},
     "output_type": "display_data"
    },
    {
     "data": {
      "text/html": [
       "<div>                            <div id=\"e4f9e684-e0dd-4784-9a12-42fc27600eb4\" class=\"plotly-graph-div\" style=\"height:525px; width:100%;\"></div>            <script type=\"text/javascript\">                require([\"plotly\"], function(Plotly) {                    window.PLOTLYENV=window.PLOTLYENV || {};                                    if (document.getElementById(\"e4f9e684-e0dd-4784-9a12-42fc27600eb4\")) {                    Plotly.newPlot(                        \"e4f9e684-e0dd-4784-9a12-42fc27600eb4\",                        [{\"coloraxis\": \"coloraxis\", \"customdata\": [[\"Developed\", 64.9, 54.9, 0.9, 67.1], [\"Developed\", 65.5, 63.6, 0.6, 58.0], [\"Developed\", 60.2, 55.4, -0.88, 68.5], [\"Developed\", 65.7, 66.4, -0.2, 67.7], [\"Developed\", 67.3, 68.8, 0.0, 60.6], [\"Developed\", 67.4, 63.6, 0.5, 69.9], [\"Developed\", 42.0, 43.0, -1.7, 42.5], [\"Developed\", 65.3, 64.3, -0.3, 59.4], [\"Developed\", 41.3, 51.4, 0.0, 47.2], [\"Developed\", 54.5, 56.6, 0.2, 66.4], [\"Developed\", 54.6, 58.5, -0.9, 66.5], [\"Developed\", 66.5, 69.3, 0.6, 69.2], [\"Developed\", 45.4, 54.8, -0.3, 55.9], [\"Developed\", 53.1, 55.9, -0.5, 61.0], [\"Developed\", 49.6, 52.5, -0.5, 52.7], [\"Developed\", 40.6, 49.9, -0.5, 60.4], [\"Developed\", 71.4, 69.7, 0.5, 70.3], [\"Developed\", 42.7, 53.7, -0.1, 57.8], [\"Developed\", 47.4, 57.7, -0.9, 56.6], [\"Developed\", 71.8, 66.7, 0.0, 74.0], [\"Developed\", 77.6, 74.8, 1.5, 66.8], [\"Developed\", 70.4, 68.0, 1.6, 82.3], [\"Developed\", 49.5, 40.0, 0.8, 64.7], [\"Developed\", 65.6, 66.3, 2.17, 69.2], [\"Developed\", 68.1, 59.8, -0.5, 59.18], [\"Developed\", 68.6, 63.7, -1.1, 74.7], [\"Developing\", 30.2, 27.4, 4.8, 18.0], [\"Developing\", 37.2, 35.7, 26.5, 47.3], [\"Developing\", 28.9, 31.6, -1.0, 51.9], [\"Developing\", 25.8, 31.1, 10.67, 55.9], [\"Developing\", 36.4, 38.3, 1.4, 62.4], [\"Developing\", 37.7, 36.1, 0.8, 59.4], [\"Developing\", 28.2, 32.3, -0.5, 63.5], [\"Developing\", 28.1, 27.7, 11.0, 64.6], [\"Developing\", 29.6, 29.9, -2.25, 55.7], [\"Developing\", 24.8, 25.8, 17.2, 60.8], [\"Developing\", 25.3, 25.3, 5.9, 61.1], [\"Developing\", 27.2, 38.6, 3.7, 37.7], [\"Developing\", 40.0, 39.2, 2.3, 58.5], [\"Developing\", 30.7, 42.8, 2.7, 44.7], [\"Developing\", 32.2, 36.9, 0.1, 67.9], [\"Developing\", 30.9, 43.6, 3.5, 63.4], [\"Developing\", 49.6, 37.0, 1.2, 13.0], [\"Developing\", 32.1, 36.6, -0.9, 62.0], [\"Developing\", 35.5, 30.7, 4.8, 25.19], [\"Developing\", 54.6, 39.3, 7.7, 30.4], [\"Developing\", 41.4, 44.5, 8.67, 68.0]], \"geo\": \"geo\", \"hovertemplate\": \"<b>%{hovertext}</b><br><br>Code=%{location}<br>Level of development=%{customdata[0]}<br>Entrepreneurship Index=%{customdata[1]}<br>Women Entrepreneurship Index=%{z}<br>Inflation rate=%{customdata[3]}<br>Female Labor Force Participation Rate=%{customdata[4]}<extra></extra>\", \"hovertext\": [\"Austria\", \"Belgium\", \"Estonia\", \"Finland\", \"France\", \"Germany\", \"Greece\", \"Ireland\", \"Italy\", \"Latvia\", \"Lithuania\", \"Netherlands\", \"Slovakia\", \"Slovenia\", \"Spain\", \"Croatia\", \"Denmark\", \"Hungary\", \"Poland\", \"Sweden\", \"Australia\", \"Iceland\", \"Japan\", \"Norway\", \"Singapore\", \"Switzerland\", \"Algeria\", \"Argentina\", \"Bosnia and Herzegovina\", \"Brazil\", \"China\", \"Costa Rica\", \"Ecuador\", \"Egypt\", \"El Salvador\", \"Ghana\", \"India\", \"Jamaica\", \"Malaysia\", \"Mexico\", \"Panama\", \"Peru\", \"Saudi Arabia\", \"Thailand\", \"Tunisia\", \"Turkey\", \"Uruguay\"], \"locations\": [\"AUT\", \"BEL\", \"EST\", \"FIN\", \"FRA\", \"DEU\", \"GRC\", \"IRL\", \"ITA\", \"LVA\", \"LTU\", \"NLD\", \"SVK\", \"SVN\", \"ESP\", \"HRV\", \"DNK\", \"HUN\", \"POL\", \"SWE\", \"AUS\", \"ISL\", \"JPN\", \"NOR\", \"SGP\", \"CHE\", \"DZA\", \"ARG\", \"BIH\", \"BRA\", \"CHN\", \"CRI\", \"ECU\", \"EGY\", \"SLV\", \"GHA\", \"IND\", \"JAM\", \"MYS\", \"MEX\", \"PAN\", \"PER\", \"SAU\", \"THA\", \"TUN\", \"TUR\", \"URY\"], \"name\": \"\", \"type\": \"choropleth\", \"z\": [54.9, 63.6, 55.4, 66.4, 68.8, 63.6, 43.0, 64.3, 51.4, 56.6, 58.5, 69.3, 54.8, 55.9, 52.5, 49.9, 69.7, 53.7, 57.7, 66.7, 74.8, 68.0, 40.0, 66.3, 59.8, 63.7, 27.4, 35.7, 31.6, 31.1, 38.3, 36.1, 32.3, 27.7, 29.9, 25.8, 25.3, 38.6, 39.2, 42.8, 36.9, 43.6, 37.0, 36.6, 30.7, 39.3, 44.5]}],                        {\"coloraxis\": {\"colorbar\": {\"title\": {\"text\": \"Women Entrepreneurship Index\"}}, \"colorscale\": [[0.0, \"#0d0887\"], [0.1111111111111111, \"#46039f\"], [0.2222222222222222, \"#7201a8\"], [0.3333333333333333, \"#9c179e\"], [0.4444444444444444, \"#bd3786\"], [0.5555555555555556, \"#d8576b\"], [0.6666666666666666, \"#ed7953\"], [0.7777777777777778, \"#fb9f3a\"], [0.8888888888888888, \"#fdca26\"], [1.0, \"#f0f921\"]]}, \"geo\": {\"center\": {}, \"domain\": {\"x\": [0.0, 1.0], \"y\": [0.0, 1.0]}}, \"legend\": {\"tracegroupgap\": 0}, \"margin\": {\"t\": 60}, \"template\": {\"data\": {\"bar\": [{\"error_x\": {\"color\": \"#2a3f5f\"}, \"error_y\": {\"color\": \"#2a3f5f\"}, \"marker\": {\"line\": {\"color\": \"#E5ECF6\", \"width\": 0.5}}, \"type\": \"bar\"}], \"barpolar\": [{\"marker\": {\"line\": {\"color\": \"#E5ECF6\", \"width\": 0.5}}, \"type\": \"barpolar\"}], \"carpet\": [{\"aaxis\": {\"endlinecolor\": \"#2a3f5f\", \"gridcolor\": \"white\", \"linecolor\": \"white\", \"minorgridcolor\": \"white\", \"startlinecolor\": \"#2a3f5f\"}, \"baxis\": {\"endlinecolor\": \"#2a3f5f\", \"gridcolor\": \"white\", \"linecolor\": \"white\", \"minorgridcolor\": \"white\", \"startlinecolor\": \"#2a3f5f\"}, \"type\": \"carpet\"}], \"choropleth\": [{\"colorbar\": {\"outlinewidth\": 0, \"ticks\": \"\"}, \"type\": \"choropleth\"}], \"contour\": [{\"colorbar\": {\"outlinewidth\": 0, \"ticks\": \"\"}, \"colorscale\": [[0.0, \"#0d0887\"], [0.1111111111111111, \"#46039f\"], [0.2222222222222222, \"#7201a8\"], [0.3333333333333333, \"#9c179e\"], [0.4444444444444444, \"#bd3786\"], [0.5555555555555556, \"#d8576b\"], [0.6666666666666666, \"#ed7953\"], [0.7777777777777778, \"#fb9f3a\"], [0.8888888888888888, \"#fdca26\"], [1.0, \"#f0f921\"]], \"type\": \"contour\"}], \"contourcarpet\": [{\"colorbar\": {\"outlinewidth\": 0, \"ticks\": \"\"}, \"type\": \"contourcarpet\"}], \"heatmap\": [{\"colorbar\": {\"outlinewidth\": 0, \"ticks\": \"\"}, \"colorscale\": [[0.0, \"#0d0887\"], [0.1111111111111111, \"#46039f\"], [0.2222222222222222, \"#7201a8\"], [0.3333333333333333, \"#9c179e\"], [0.4444444444444444, \"#bd3786\"], [0.5555555555555556, \"#d8576b\"], [0.6666666666666666, \"#ed7953\"], [0.7777777777777778, \"#fb9f3a\"], [0.8888888888888888, \"#fdca26\"], [1.0, \"#f0f921\"]], \"type\": \"heatmap\"}], \"heatmapgl\": [{\"colorbar\": {\"outlinewidth\": 0, \"ticks\": \"\"}, \"colorscale\": [[0.0, \"#0d0887\"], [0.1111111111111111, \"#46039f\"], [0.2222222222222222, \"#7201a8\"], [0.3333333333333333, \"#9c179e\"], [0.4444444444444444, \"#bd3786\"], [0.5555555555555556, \"#d8576b\"], [0.6666666666666666, \"#ed7953\"], [0.7777777777777778, \"#fb9f3a\"], [0.8888888888888888, \"#fdca26\"], [1.0, \"#f0f921\"]], \"type\": \"heatmapgl\"}], \"histogram\": [{\"marker\": {\"colorbar\": {\"outlinewidth\": 0, \"ticks\": \"\"}}, \"type\": \"histogram\"}], \"histogram2d\": [{\"colorbar\": {\"outlinewidth\": 0, \"ticks\": \"\"}, \"colorscale\": [[0.0, \"#0d0887\"], [0.1111111111111111, \"#46039f\"], [0.2222222222222222, \"#7201a8\"], [0.3333333333333333, \"#9c179e\"], [0.4444444444444444, \"#bd3786\"], [0.5555555555555556, \"#d8576b\"], [0.6666666666666666, \"#ed7953\"], [0.7777777777777778, \"#fb9f3a\"], [0.8888888888888888, \"#fdca26\"], [1.0, \"#f0f921\"]], \"type\": \"histogram2d\"}], \"histogram2dcontour\": [{\"colorbar\": {\"outlinewidth\": 0, \"ticks\": \"\"}, \"colorscale\": [[0.0, \"#0d0887\"], [0.1111111111111111, \"#46039f\"], [0.2222222222222222, \"#7201a8\"], [0.3333333333333333, \"#9c179e\"], [0.4444444444444444, \"#bd3786\"], [0.5555555555555556, \"#d8576b\"], [0.6666666666666666, \"#ed7953\"], [0.7777777777777778, \"#fb9f3a\"], [0.8888888888888888, \"#fdca26\"], [1.0, \"#f0f921\"]], \"type\": \"histogram2dcontour\"}], \"mesh3d\": [{\"colorbar\": {\"outlinewidth\": 0, \"ticks\": \"\"}, \"type\": \"mesh3d\"}], \"parcoords\": [{\"line\": {\"colorbar\": {\"outlinewidth\": 0, \"ticks\": \"\"}}, \"type\": \"parcoords\"}], \"pie\": [{\"automargin\": true, \"type\": \"pie\"}], \"scatter\": [{\"marker\": {\"colorbar\": {\"outlinewidth\": 0, \"ticks\": \"\"}}, \"type\": \"scatter\"}], \"scatter3d\": [{\"line\": {\"colorbar\": {\"outlinewidth\": 0, \"ticks\": \"\"}}, \"marker\": {\"colorbar\": {\"outlinewidth\": 0, \"ticks\": \"\"}}, \"type\": \"scatter3d\"}], \"scattercarpet\": [{\"marker\": {\"colorbar\": {\"outlinewidth\": 0, \"ticks\": \"\"}}, \"type\": \"scattercarpet\"}], \"scattergeo\": [{\"marker\": {\"colorbar\": {\"outlinewidth\": 0, \"ticks\": \"\"}}, \"type\": \"scattergeo\"}], \"scattergl\": [{\"marker\": {\"colorbar\": {\"outlinewidth\": 0, \"ticks\": \"\"}}, \"type\": \"scattergl\"}], \"scattermapbox\": [{\"marker\": {\"colorbar\": {\"outlinewidth\": 0, \"ticks\": \"\"}}, \"type\": \"scattermapbox\"}], \"scatterpolar\": [{\"marker\": {\"colorbar\": {\"outlinewidth\": 0, \"ticks\": \"\"}}, \"type\": \"scatterpolar\"}], \"scatterpolargl\": [{\"marker\": {\"colorbar\": {\"outlinewidth\": 0, \"ticks\": \"\"}}, \"type\": \"scatterpolargl\"}], \"scatterternary\": [{\"marker\": {\"colorbar\": {\"outlinewidth\": 0, \"ticks\": \"\"}}, \"type\": \"scatterternary\"}], \"surface\": [{\"colorbar\": {\"outlinewidth\": 0, \"ticks\": \"\"}, \"colorscale\": [[0.0, \"#0d0887\"], [0.1111111111111111, \"#46039f\"], [0.2222222222222222, \"#7201a8\"], [0.3333333333333333, \"#9c179e\"], [0.4444444444444444, \"#bd3786\"], [0.5555555555555556, \"#d8576b\"], [0.6666666666666666, \"#ed7953\"], [0.7777777777777778, \"#fb9f3a\"], [0.8888888888888888, \"#fdca26\"], [1.0, \"#f0f921\"]], \"type\": \"surface\"}], \"table\": [{\"cells\": {\"fill\": {\"color\": \"#EBF0F8\"}, \"line\": {\"color\": \"white\"}}, \"header\": {\"fill\": {\"color\": \"#C8D4E3\"}, \"line\": {\"color\": \"white\"}}, \"type\": \"table\"}]}, \"layout\": {\"annotationdefaults\": {\"arrowcolor\": \"#2a3f5f\", \"arrowhead\": 0, \"arrowwidth\": 1}, \"coloraxis\": {\"colorbar\": {\"outlinewidth\": 0, \"ticks\": \"\"}}, \"colorscale\": {\"diverging\": [[0, \"#8e0152\"], [0.1, \"#c51b7d\"], [0.2, \"#de77ae\"], [0.3, \"#f1b6da\"], [0.4, \"#fde0ef\"], [0.5, \"#f7f7f7\"], [0.6, \"#e6f5d0\"], [0.7, \"#b8e186\"], [0.8, \"#7fbc41\"], [0.9, \"#4d9221\"], [1, \"#276419\"]], \"sequential\": [[0.0, \"#0d0887\"], [0.1111111111111111, \"#46039f\"], [0.2222222222222222, \"#7201a8\"], [0.3333333333333333, \"#9c179e\"], [0.4444444444444444, \"#bd3786\"], [0.5555555555555556, \"#d8576b\"], [0.6666666666666666, \"#ed7953\"], [0.7777777777777778, \"#fb9f3a\"], [0.8888888888888888, \"#fdca26\"], [1.0, \"#f0f921\"]], \"sequentialminus\": [[0.0, \"#0d0887\"], [0.1111111111111111, \"#46039f\"], [0.2222222222222222, \"#7201a8\"], [0.3333333333333333, \"#9c179e\"], [0.4444444444444444, \"#bd3786\"], [0.5555555555555556, \"#d8576b\"], [0.6666666666666666, \"#ed7953\"], [0.7777777777777778, \"#fb9f3a\"], [0.8888888888888888, \"#fdca26\"], [1.0, \"#f0f921\"]]}, \"colorway\": [\"#636efa\", \"#EF553B\", \"#00cc96\", \"#ab63fa\", \"#FFA15A\", \"#19d3f3\", \"#FF6692\", \"#B6E880\", \"#FF97FF\", \"#FECB52\"], \"font\": {\"color\": \"#2a3f5f\"}, \"geo\": {\"bgcolor\": \"white\", \"lakecolor\": \"white\", \"landcolor\": \"#E5ECF6\", \"showlakes\": true, \"showland\": true, \"subunitcolor\": \"white\"}, \"hoverlabel\": {\"align\": \"left\"}, \"hovermode\": \"closest\", \"mapbox\": {\"style\": \"light\"}, \"paper_bgcolor\": \"white\", \"plot_bgcolor\": \"#E5ECF6\", \"polar\": {\"angularaxis\": {\"gridcolor\": \"white\", \"linecolor\": \"white\", \"ticks\": \"\"}, \"bgcolor\": \"#E5ECF6\", \"radialaxis\": {\"gridcolor\": \"white\", \"linecolor\": \"white\", \"ticks\": \"\"}}, \"scene\": {\"xaxis\": {\"backgroundcolor\": \"#E5ECF6\", \"gridcolor\": \"white\", \"gridwidth\": 2, \"linecolor\": \"white\", \"showbackground\": true, \"ticks\": \"\", \"zerolinecolor\": \"white\"}, \"yaxis\": {\"backgroundcolor\": \"#E5ECF6\", \"gridcolor\": \"white\", \"gridwidth\": 2, \"linecolor\": \"white\", \"showbackground\": true, \"ticks\": \"\", \"zerolinecolor\": \"white\"}, \"zaxis\": {\"backgroundcolor\": \"#E5ECF6\", \"gridcolor\": \"white\", \"gridwidth\": 2, \"linecolor\": \"white\", \"showbackground\": true, \"ticks\": \"\", \"zerolinecolor\": \"white\"}}, \"shapedefaults\": {\"line\": {\"color\": \"#2a3f5f\"}}, \"ternary\": {\"aaxis\": {\"gridcolor\": \"white\", \"linecolor\": \"white\", \"ticks\": \"\"}, \"baxis\": {\"gridcolor\": \"white\", \"linecolor\": \"white\", \"ticks\": \"\"}, \"bgcolor\": \"#E5ECF6\", \"caxis\": {\"gridcolor\": \"white\", \"linecolor\": \"white\", \"ticks\": \"\"}}, \"title\": {\"x\": 0.05}, \"xaxis\": {\"automargin\": true, \"gridcolor\": \"white\", \"linecolor\": \"white\", \"ticks\": \"\", \"title\": {\"standoff\": 15}, \"zerolinecolor\": \"white\", \"zerolinewidth\": 2}, \"yaxis\": {\"automargin\": true, \"gridcolor\": \"white\", \"linecolor\": \"white\", \"ticks\": \"\", \"title\": {\"standoff\": 15}, \"zerolinecolor\": \"white\", \"zerolinewidth\": 2}}}},                        {\"responsive\": true}                    ).then(function(){\n",
       "                            \n",
       "var gd = document.getElementById('e4f9e684-e0dd-4784-9a12-42fc27600eb4');\n",
       "var x = new MutationObserver(function (mutations, observer) {{\n",
       "        var display = window.getComputedStyle(gd).display;\n",
       "        if (!display || display === 'none') {{\n",
       "            console.log([gd, 'removed!']);\n",
       "            Plotly.purge(gd);\n",
       "            observer.disconnect();\n",
       "        }}\n",
       "}});\n",
       "\n",
       "// Listen for the removal of the full notebook cells\n",
       "var notebookContainer = gd.closest('#notebook-container');\n",
       "if (notebookContainer) {{\n",
       "    x.observe(notebookContainer, {childList: true});\n",
       "}}\n",
       "\n",
       "// Listen for the clearing of the current output cell\n",
       "var outputEl = gd.closest('.output');\n",
       "if (outputEl) {{\n",
       "    x.observe(outputEl, {childList: true});\n",
       "}}\n",
       "\n",
       "                        })                };                });            </script>        </div>"
      ]
     },
     "metadata": {},
     "output_type": "display_data"
    }
   ],
   "source": [
    "fig = px.choropleth(data,locations='Code',color = 'Women Entrepreneurship Index',hover_name='Country',\n",
    "                    hover_data = ['Level of development', 'Entrepreneurship Index',\"Women Entrepreneurship Index\",'Inflation rate','Female Labor Force Participation Rate'],\n",
    "                    color_continuous_scale=px.colors.sequential.Plasma)\n",
    "fig.show()"
   ]
  },
  {
   "cell_type": "markdown",
   "metadata": {
    "papermill": {
     "duration": 0.05668,
     "end_time": "2020-11-28T18:08:25.702050",
     "exception": false,
     "start_time": "2020-11-28T18:08:25.645370",
     "status": "completed"
    },
    "tags": []
   },
   "source": [
    "# Effect of Inflation on Entrepreneurship"
   ]
  },
  {
   "cell_type": "code",
   "execution_count": 21,
   "metadata": {
    "execution": {
     "iopub.execute_input": "2020-11-28T18:08:25.821749Z",
     "iopub.status.busy": "2020-11-28T18:08:25.821097Z",
     "iopub.status.idle": "2020-11-28T18:08:25.896559Z",
     "shell.execute_reply": "2020-11-28T18:08:25.895896Z"
    },
    "papermill": {
     "duration": 0.137828,
     "end_time": "2020-11-28T18:08:25.896668",
     "exception": false,
     "start_time": "2020-11-28T18:08:25.758840",
     "status": "completed"
    },
    "tags": []
   },
   "outputs": [
    {
     "data": {
      "text/html": [
       "<div>                            <div id=\"01bd406b-56fd-4c37-b7ab-dd0267391d38\" class=\"plotly-graph-div\" style=\"height:525px; width:100%;\"></div>            <script type=\"text/javascript\">                require([\"plotly\"], function(Plotly) {                    window.PLOTLYENV=window.PLOTLYENV || {};                                    if (document.getElementById(\"01bd406b-56fd-4c37-b7ab-dd0267391d38\")) {                    Plotly.newPlot(                        \"01bd406b-56fd-4c37-b7ab-dd0267391d38\",                        [{\"hovertemplate\": \"Inflation rate=%{x}<br>Entrepreneurship Index=%{y}<extra></extra>\", \"legendgroup\": \"\", \"marker\": {\"color\": \"#636efa\", \"symbol\": \"circle\"}, \"mode\": \"markers\", \"name\": \"\", \"orientation\": \"v\", \"showlegend\": false, \"type\": \"scatter\", \"x\": [0.9, 0.6, -0.88, -0.2, 0.0, 0.5, -1.7, -0.3, 0.0, 0.2, -0.9, 0.6, -0.3, -0.5, -0.5, -0.5, 0.5, -0.1, -0.9, 0.0, 1.5, 1.6, 0.8, 2.17, -0.5, -1.1, 4.8, 26.5, -1.0, 10.67, 1.4, 0.8, -0.5, 11.0, -2.25, 17.2, 5.9, 3.7, 2.3, 2.7, 0.1, 3.5, 1.2, -0.9, 4.8, 7.7, 8.67], \"xaxis\": \"x\", \"y\": [64.9, 65.5, 60.2, 65.7, 67.3, 67.4, 42.0, 65.3, 41.3, 54.5, 54.6, 66.5, 45.4, 53.1, 49.6, 40.6, 71.4, 42.7, 47.4, 71.8, 77.6, 70.4, 49.5, 65.6, 68.1, 68.6, 30.2, 37.2, 28.9, 25.8, 36.4, 37.7, 28.2, 28.1, 29.6, 24.8, 25.3, 27.2, 40.0, 30.7, 32.2, 30.9, 49.6, 32.1, 35.5, 54.6, 41.4], \"yaxis\": \"y\"}],                        {\"legend\": {\"tracegroupgap\": 0}, \"margin\": {\"t\": 60}, \"template\": {\"data\": {\"bar\": [{\"error_x\": {\"color\": \"#2a3f5f\"}, \"error_y\": {\"color\": \"#2a3f5f\"}, \"marker\": {\"line\": {\"color\": \"#E5ECF6\", \"width\": 0.5}}, \"type\": \"bar\"}], \"barpolar\": [{\"marker\": {\"line\": {\"color\": \"#E5ECF6\", \"width\": 0.5}}, \"type\": \"barpolar\"}], \"carpet\": [{\"aaxis\": {\"endlinecolor\": \"#2a3f5f\", \"gridcolor\": \"white\", \"linecolor\": \"white\", \"minorgridcolor\": \"white\", \"startlinecolor\": \"#2a3f5f\"}, \"baxis\": {\"endlinecolor\": \"#2a3f5f\", \"gridcolor\": \"white\", \"linecolor\": \"white\", \"minorgridcolor\": \"white\", \"startlinecolor\": \"#2a3f5f\"}, \"type\": \"carpet\"}], \"choropleth\": [{\"colorbar\": {\"outlinewidth\": 0, \"ticks\": \"\"}, \"type\": \"choropleth\"}], \"contour\": [{\"colorbar\": {\"outlinewidth\": 0, \"ticks\": \"\"}, \"colorscale\": [[0.0, \"#0d0887\"], [0.1111111111111111, \"#46039f\"], [0.2222222222222222, \"#7201a8\"], [0.3333333333333333, \"#9c179e\"], [0.4444444444444444, \"#bd3786\"], [0.5555555555555556, \"#d8576b\"], [0.6666666666666666, \"#ed7953\"], [0.7777777777777778, \"#fb9f3a\"], [0.8888888888888888, \"#fdca26\"], [1.0, \"#f0f921\"]], \"type\": \"contour\"}], \"contourcarpet\": [{\"colorbar\": {\"outlinewidth\": 0, \"ticks\": \"\"}, \"type\": \"contourcarpet\"}], \"heatmap\": [{\"colorbar\": {\"outlinewidth\": 0, \"ticks\": \"\"}, \"colorscale\": [[0.0, \"#0d0887\"], [0.1111111111111111, \"#46039f\"], [0.2222222222222222, \"#7201a8\"], [0.3333333333333333, \"#9c179e\"], [0.4444444444444444, \"#bd3786\"], [0.5555555555555556, \"#d8576b\"], [0.6666666666666666, \"#ed7953\"], [0.7777777777777778, \"#fb9f3a\"], [0.8888888888888888, \"#fdca26\"], [1.0, \"#f0f921\"]], \"type\": \"heatmap\"}], \"heatmapgl\": [{\"colorbar\": {\"outlinewidth\": 0, \"ticks\": \"\"}, \"colorscale\": [[0.0, \"#0d0887\"], [0.1111111111111111, \"#46039f\"], [0.2222222222222222, \"#7201a8\"], [0.3333333333333333, \"#9c179e\"], [0.4444444444444444, \"#bd3786\"], [0.5555555555555556, \"#d8576b\"], [0.6666666666666666, \"#ed7953\"], [0.7777777777777778, \"#fb9f3a\"], [0.8888888888888888, \"#fdca26\"], [1.0, \"#f0f921\"]], \"type\": \"heatmapgl\"}], \"histogram\": [{\"marker\": {\"colorbar\": {\"outlinewidth\": 0, \"ticks\": \"\"}}, \"type\": \"histogram\"}], \"histogram2d\": [{\"colorbar\": {\"outlinewidth\": 0, \"ticks\": \"\"}, \"colorscale\": [[0.0, \"#0d0887\"], [0.1111111111111111, \"#46039f\"], [0.2222222222222222, \"#7201a8\"], [0.3333333333333333, \"#9c179e\"], [0.4444444444444444, \"#bd3786\"], [0.5555555555555556, \"#d8576b\"], [0.6666666666666666, \"#ed7953\"], [0.7777777777777778, \"#fb9f3a\"], [0.8888888888888888, \"#fdca26\"], [1.0, \"#f0f921\"]], \"type\": \"histogram2d\"}], \"histogram2dcontour\": [{\"colorbar\": {\"outlinewidth\": 0, \"ticks\": \"\"}, \"colorscale\": [[0.0, \"#0d0887\"], [0.1111111111111111, \"#46039f\"], [0.2222222222222222, \"#7201a8\"], [0.3333333333333333, \"#9c179e\"], [0.4444444444444444, \"#bd3786\"], [0.5555555555555556, \"#d8576b\"], [0.6666666666666666, \"#ed7953\"], [0.7777777777777778, \"#fb9f3a\"], [0.8888888888888888, \"#fdca26\"], [1.0, \"#f0f921\"]], \"type\": \"histogram2dcontour\"}], \"mesh3d\": [{\"colorbar\": {\"outlinewidth\": 0, \"ticks\": \"\"}, \"type\": \"mesh3d\"}], \"parcoords\": [{\"line\": {\"colorbar\": {\"outlinewidth\": 0, \"ticks\": \"\"}}, \"type\": \"parcoords\"}], \"pie\": [{\"automargin\": true, \"type\": \"pie\"}], \"scatter\": [{\"marker\": {\"colorbar\": {\"outlinewidth\": 0, \"ticks\": \"\"}}, \"type\": \"scatter\"}], \"scatter3d\": [{\"line\": {\"colorbar\": {\"outlinewidth\": 0, \"ticks\": \"\"}}, \"marker\": {\"colorbar\": {\"outlinewidth\": 0, \"ticks\": \"\"}}, \"type\": \"scatter3d\"}], \"scattercarpet\": [{\"marker\": {\"colorbar\": {\"outlinewidth\": 0, \"ticks\": \"\"}}, \"type\": \"scattercarpet\"}], \"scattergeo\": [{\"marker\": {\"colorbar\": {\"outlinewidth\": 0, \"ticks\": \"\"}}, \"type\": \"scattergeo\"}], \"scattergl\": [{\"marker\": {\"colorbar\": {\"outlinewidth\": 0, \"ticks\": \"\"}}, \"type\": \"scattergl\"}], \"scattermapbox\": [{\"marker\": {\"colorbar\": {\"outlinewidth\": 0, \"ticks\": \"\"}}, \"type\": \"scattermapbox\"}], \"scatterpolar\": [{\"marker\": {\"colorbar\": {\"outlinewidth\": 0, \"ticks\": \"\"}}, \"type\": \"scatterpolar\"}], \"scatterpolargl\": [{\"marker\": {\"colorbar\": {\"outlinewidth\": 0, \"ticks\": \"\"}}, \"type\": \"scatterpolargl\"}], \"scatterternary\": [{\"marker\": {\"colorbar\": {\"outlinewidth\": 0, \"ticks\": \"\"}}, \"type\": \"scatterternary\"}], \"surface\": [{\"colorbar\": {\"outlinewidth\": 0, \"ticks\": \"\"}, \"colorscale\": [[0.0, \"#0d0887\"], [0.1111111111111111, \"#46039f\"], [0.2222222222222222, \"#7201a8\"], [0.3333333333333333, \"#9c179e\"], [0.4444444444444444, \"#bd3786\"], [0.5555555555555556, \"#d8576b\"], [0.6666666666666666, \"#ed7953\"], [0.7777777777777778, \"#fb9f3a\"], [0.8888888888888888, \"#fdca26\"], [1.0, \"#f0f921\"]], \"type\": \"surface\"}], \"table\": [{\"cells\": {\"fill\": {\"color\": \"#EBF0F8\"}, \"line\": {\"color\": \"white\"}}, \"header\": {\"fill\": {\"color\": \"#C8D4E3\"}, \"line\": {\"color\": \"white\"}}, \"type\": \"table\"}]}, \"layout\": {\"annotationdefaults\": {\"arrowcolor\": \"#2a3f5f\", \"arrowhead\": 0, \"arrowwidth\": 1}, \"coloraxis\": {\"colorbar\": {\"outlinewidth\": 0, \"ticks\": \"\"}}, \"colorscale\": {\"diverging\": [[0, \"#8e0152\"], [0.1, \"#c51b7d\"], [0.2, \"#de77ae\"], [0.3, \"#f1b6da\"], [0.4, \"#fde0ef\"], [0.5, \"#f7f7f7\"], [0.6, \"#e6f5d0\"], [0.7, \"#b8e186\"], [0.8, \"#7fbc41\"], [0.9, \"#4d9221\"], [1, \"#276419\"]], \"sequential\": [[0.0, \"#0d0887\"], [0.1111111111111111, \"#46039f\"], [0.2222222222222222, \"#7201a8\"], [0.3333333333333333, \"#9c179e\"], [0.4444444444444444, \"#bd3786\"], [0.5555555555555556, \"#d8576b\"], [0.6666666666666666, \"#ed7953\"], [0.7777777777777778, \"#fb9f3a\"], [0.8888888888888888, \"#fdca26\"], [1.0, \"#f0f921\"]], \"sequentialminus\": [[0.0, \"#0d0887\"], [0.1111111111111111, \"#46039f\"], [0.2222222222222222, \"#7201a8\"], [0.3333333333333333, \"#9c179e\"], [0.4444444444444444, \"#bd3786\"], [0.5555555555555556, \"#d8576b\"], [0.6666666666666666, \"#ed7953\"], [0.7777777777777778, \"#fb9f3a\"], [0.8888888888888888, \"#fdca26\"], [1.0, \"#f0f921\"]]}, \"colorway\": [\"#636efa\", \"#EF553B\", \"#00cc96\", \"#ab63fa\", \"#FFA15A\", \"#19d3f3\", \"#FF6692\", \"#B6E880\", \"#FF97FF\", \"#FECB52\"], \"font\": {\"color\": \"#2a3f5f\"}, \"geo\": {\"bgcolor\": \"white\", \"lakecolor\": \"white\", \"landcolor\": \"#E5ECF6\", \"showlakes\": true, \"showland\": true, \"subunitcolor\": \"white\"}, \"hoverlabel\": {\"align\": \"left\"}, \"hovermode\": \"closest\", \"mapbox\": {\"style\": \"light\"}, \"paper_bgcolor\": \"white\", \"plot_bgcolor\": \"#E5ECF6\", \"polar\": {\"angularaxis\": {\"gridcolor\": \"white\", \"linecolor\": \"white\", \"ticks\": \"\"}, \"bgcolor\": \"#E5ECF6\", \"radialaxis\": {\"gridcolor\": \"white\", \"linecolor\": \"white\", \"ticks\": \"\"}}, \"scene\": {\"xaxis\": {\"backgroundcolor\": \"#E5ECF6\", \"gridcolor\": \"white\", \"gridwidth\": 2, \"linecolor\": \"white\", \"showbackground\": true, \"ticks\": \"\", \"zerolinecolor\": \"white\"}, \"yaxis\": {\"backgroundcolor\": \"#E5ECF6\", \"gridcolor\": \"white\", \"gridwidth\": 2, \"linecolor\": \"white\", \"showbackground\": true, \"ticks\": \"\", \"zerolinecolor\": \"white\"}, \"zaxis\": {\"backgroundcolor\": \"#E5ECF6\", \"gridcolor\": \"white\", \"gridwidth\": 2, \"linecolor\": \"white\", \"showbackground\": true, \"ticks\": \"\", \"zerolinecolor\": \"white\"}}, \"shapedefaults\": {\"line\": {\"color\": \"#2a3f5f\"}}, \"ternary\": {\"aaxis\": {\"gridcolor\": \"white\", \"linecolor\": \"white\", \"ticks\": \"\"}, \"baxis\": {\"gridcolor\": \"white\", \"linecolor\": \"white\", \"ticks\": \"\"}, \"bgcolor\": \"#E5ECF6\", \"caxis\": {\"gridcolor\": \"white\", \"linecolor\": \"white\", \"ticks\": \"\"}}, \"title\": {\"x\": 0.05}, \"xaxis\": {\"automargin\": true, \"gridcolor\": \"white\", \"linecolor\": \"white\", \"ticks\": \"\", \"title\": {\"standoff\": 15}, \"zerolinecolor\": \"white\", \"zerolinewidth\": 2}, \"yaxis\": {\"automargin\": true, \"gridcolor\": \"white\", \"linecolor\": \"white\", \"ticks\": \"\", \"title\": {\"standoff\": 15}, \"zerolinecolor\": \"white\", \"zerolinewidth\": 2}}}, \"xaxis\": {\"anchor\": \"y\", \"domain\": [0.0, 1.0], \"title\": {\"text\": \"Inflation rate\"}}, \"yaxis\": {\"anchor\": \"x\", \"domain\": [0.0, 1.0], \"title\": {\"text\": \"Entrepreneurship Index\"}}},                        {\"responsive\": true}                    ).then(function(){\n",
       "                            \n",
       "var gd = document.getElementById('01bd406b-56fd-4c37-b7ab-dd0267391d38');\n",
       "var x = new MutationObserver(function (mutations, observer) {{\n",
       "        var display = window.getComputedStyle(gd).display;\n",
       "        if (!display || display === 'none') {{\n",
       "            console.log([gd, 'removed!']);\n",
       "            Plotly.purge(gd);\n",
       "            observer.disconnect();\n",
       "        }}\n",
       "}});\n",
       "\n",
       "// Listen for the removal of the full notebook cells\n",
       "var notebookContainer = gd.closest('#notebook-container');\n",
       "if (notebookContainer) {{\n",
       "    x.observe(notebookContainer, {childList: true});\n",
       "}}\n",
       "\n",
       "// Listen for the clearing of the current output cell\n",
       "var outputEl = gd.closest('.output');\n",
       "if (outputEl) {{\n",
       "    x.observe(outputEl, {childList: true});\n",
       "}}\n",
       "\n",
       "                        })                };                });            </script>        </div>"
      ]
     },
     "metadata": {},
     "output_type": "display_data"
    }
   ],
   "source": [
    "px.scatter(data, x ='Inflation rate', y = 'Entrepreneurship Index')"
   ]
  },
  {
   "cell_type": "markdown",
   "metadata": {
    "papermill": {
     "duration": 0.039443,
     "end_time": "2020-11-28T18:08:25.975747",
     "exception": false,
     "start_time": "2020-11-28T18:08:25.936304",
     "status": "completed"
    },
    "tags": []
   },
   "source": [
    "**With a decrease in Inflation Entrepreneurship Index increases**"
   ]
  },
  {
   "cell_type": "markdown",
   "metadata": {
    "papermill": {
     "duration": 0.039315,
     "end_time": "2020-11-28T18:08:26.054623",
     "exception": false,
     "start_time": "2020-11-28T18:08:26.015308",
     "status": "completed"
    },
    "tags": []
   },
   "source": [
    "# Woman Entrepreneurship Index v/s Entrepreneurship Index"
   ]
  },
  {
   "cell_type": "code",
   "execution_count": 22,
   "metadata": {
    "execution": {
     "iopub.execute_input": "2020-11-28T18:08:26.146784Z",
     "iopub.status.busy": "2020-11-28T18:08:26.145913Z",
     "iopub.status.idle": "2020-11-28T18:08:26.191428Z",
     "shell.execute_reply": "2020-11-28T18:08:26.191928Z"
    },
    "papermill": {
     "duration": 0.097058,
     "end_time": "2020-11-28T18:08:26.192060",
     "exception": false,
     "start_time": "2020-11-28T18:08:26.095002",
     "status": "completed"
    },
    "tags": []
   },
   "outputs": [
    {
     "data": {
      "text/html": [
       "<div>                            <div id=\"6d894e08-3706-4119-83bc-31440e11f56e\" class=\"plotly-graph-div\" style=\"height:525px; width:100%;\"></div>            <script type=\"text/javascript\">                require([\"plotly\"], function(Plotly) {                    window.PLOTLYENV=window.PLOTLYENV || {};                                    if (document.getElementById(\"6d894e08-3706-4119-83bc-31440e11f56e\")) {                    Plotly.newPlot(                        \"6d894e08-3706-4119-83bc-31440e11f56e\",                        [{\"hovertemplate\": \"Women Entrepreneurship Index=%{x}<br>Entrepreneurship Index=%{y}<extra></extra>\", \"legendgroup\": \"\", \"marker\": {\"color\": \"#636efa\", \"symbol\": \"circle\"}, \"mode\": \"markers\", \"name\": \"\", \"orientation\": \"v\", \"showlegend\": false, \"type\": \"scatter\", \"x\": [54.9, 63.6, 55.4, 66.4, 68.8, 63.6, 43.0, 64.3, 51.4, 56.6, 58.5, 69.3, 54.8, 55.9, 52.5, 49.9, 69.7, 53.7, 57.7, 66.7, 74.8, 68.0, 40.0, 66.3, 59.8, 63.7, 27.4, 35.7, 31.6, 31.1, 38.3, 36.1, 32.3, 27.7, 29.9, 25.8, 25.3, 38.6, 39.2, 42.8, 36.9, 43.6, 37.0, 36.6, 30.7, 39.3, 44.5], \"xaxis\": \"x\", \"y\": [64.9, 65.5, 60.2, 65.7, 67.3, 67.4, 42.0, 65.3, 41.3, 54.5, 54.6, 66.5, 45.4, 53.1, 49.6, 40.6, 71.4, 42.7, 47.4, 71.8, 77.6, 70.4, 49.5, 65.6, 68.1, 68.6, 30.2, 37.2, 28.9, 25.8, 36.4, 37.7, 28.2, 28.1, 29.6, 24.8, 25.3, 27.2, 40.0, 30.7, 32.2, 30.9, 49.6, 32.1, 35.5, 54.6, 41.4], \"yaxis\": \"y\"}],                        {\"legend\": {\"tracegroupgap\": 0}, \"margin\": {\"t\": 60}, \"template\": {\"data\": {\"bar\": [{\"error_x\": {\"color\": \"#2a3f5f\"}, \"error_y\": {\"color\": \"#2a3f5f\"}, \"marker\": {\"line\": {\"color\": \"#E5ECF6\", \"width\": 0.5}}, \"type\": \"bar\"}], \"barpolar\": [{\"marker\": {\"line\": {\"color\": \"#E5ECF6\", \"width\": 0.5}}, \"type\": \"barpolar\"}], \"carpet\": [{\"aaxis\": {\"endlinecolor\": \"#2a3f5f\", \"gridcolor\": \"white\", \"linecolor\": \"white\", \"minorgridcolor\": \"white\", \"startlinecolor\": \"#2a3f5f\"}, \"baxis\": {\"endlinecolor\": \"#2a3f5f\", \"gridcolor\": \"white\", \"linecolor\": \"white\", \"minorgridcolor\": \"white\", \"startlinecolor\": \"#2a3f5f\"}, \"type\": \"carpet\"}], \"choropleth\": [{\"colorbar\": {\"outlinewidth\": 0, \"ticks\": \"\"}, \"type\": \"choropleth\"}], \"contour\": [{\"colorbar\": {\"outlinewidth\": 0, \"ticks\": \"\"}, \"colorscale\": [[0.0, \"#0d0887\"], [0.1111111111111111, \"#46039f\"], [0.2222222222222222, \"#7201a8\"], [0.3333333333333333, \"#9c179e\"], [0.4444444444444444, \"#bd3786\"], [0.5555555555555556, \"#d8576b\"], [0.6666666666666666, \"#ed7953\"], [0.7777777777777778, \"#fb9f3a\"], [0.8888888888888888, \"#fdca26\"], [1.0, \"#f0f921\"]], \"type\": \"contour\"}], \"contourcarpet\": [{\"colorbar\": {\"outlinewidth\": 0, \"ticks\": \"\"}, \"type\": \"contourcarpet\"}], \"heatmap\": [{\"colorbar\": {\"outlinewidth\": 0, \"ticks\": \"\"}, \"colorscale\": [[0.0, \"#0d0887\"], [0.1111111111111111, \"#46039f\"], [0.2222222222222222, \"#7201a8\"], [0.3333333333333333, \"#9c179e\"], [0.4444444444444444, \"#bd3786\"], [0.5555555555555556, \"#d8576b\"], [0.6666666666666666, \"#ed7953\"], [0.7777777777777778, \"#fb9f3a\"], [0.8888888888888888, \"#fdca26\"], [1.0, \"#f0f921\"]], \"type\": \"heatmap\"}], \"heatmapgl\": [{\"colorbar\": {\"outlinewidth\": 0, \"ticks\": \"\"}, \"colorscale\": [[0.0, \"#0d0887\"], [0.1111111111111111, \"#46039f\"], [0.2222222222222222, \"#7201a8\"], [0.3333333333333333, \"#9c179e\"], [0.4444444444444444, \"#bd3786\"], [0.5555555555555556, \"#d8576b\"], [0.6666666666666666, \"#ed7953\"], [0.7777777777777778, \"#fb9f3a\"], [0.8888888888888888, \"#fdca26\"], [1.0, \"#f0f921\"]], \"type\": \"heatmapgl\"}], \"histogram\": [{\"marker\": {\"colorbar\": {\"outlinewidth\": 0, \"ticks\": \"\"}}, \"type\": \"histogram\"}], \"histogram2d\": [{\"colorbar\": {\"outlinewidth\": 0, \"ticks\": \"\"}, \"colorscale\": [[0.0, \"#0d0887\"], [0.1111111111111111, \"#46039f\"], [0.2222222222222222, \"#7201a8\"], [0.3333333333333333, \"#9c179e\"], [0.4444444444444444, \"#bd3786\"], [0.5555555555555556, \"#d8576b\"], [0.6666666666666666, \"#ed7953\"], [0.7777777777777778, \"#fb9f3a\"], [0.8888888888888888, \"#fdca26\"], [1.0, \"#f0f921\"]], \"type\": \"histogram2d\"}], \"histogram2dcontour\": [{\"colorbar\": {\"outlinewidth\": 0, \"ticks\": \"\"}, \"colorscale\": [[0.0, \"#0d0887\"], [0.1111111111111111, \"#46039f\"], [0.2222222222222222, \"#7201a8\"], [0.3333333333333333, \"#9c179e\"], [0.4444444444444444, \"#bd3786\"], [0.5555555555555556, \"#d8576b\"], [0.6666666666666666, \"#ed7953\"], [0.7777777777777778, \"#fb9f3a\"], [0.8888888888888888, \"#fdca26\"], [1.0, \"#f0f921\"]], \"type\": \"histogram2dcontour\"}], \"mesh3d\": [{\"colorbar\": {\"outlinewidth\": 0, \"ticks\": \"\"}, \"type\": \"mesh3d\"}], \"parcoords\": [{\"line\": {\"colorbar\": {\"outlinewidth\": 0, \"ticks\": \"\"}}, \"type\": \"parcoords\"}], \"pie\": [{\"automargin\": true, \"type\": \"pie\"}], \"scatter\": [{\"marker\": {\"colorbar\": {\"outlinewidth\": 0, \"ticks\": \"\"}}, \"type\": \"scatter\"}], \"scatter3d\": [{\"line\": {\"colorbar\": {\"outlinewidth\": 0, \"ticks\": \"\"}}, \"marker\": {\"colorbar\": {\"outlinewidth\": 0, \"ticks\": \"\"}}, \"type\": \"scatter3d\"}], \"scattercarpet\": [{\"marker\": {\"colorbar\": {\"outlinewidth\": 0, \"ticks\": \"\"}}, \"type\": \"scattercarpet\"}], \"scattergeo\": [{\"marker\": {\"colorbar\": {\"outlinewidth\": 0, \"ticks\": \"\"}}, \"type\": \"scattergeo\"}], \"scattergl\": [{\"marker\": {\"colorbar\": {\"outlinewidth\": 0, \"ticks\": \"\"}}, \"type\": \"scattergl\"}], \"scattermapbox\": [{\"marker\": {\"colorbar\": {\"outlinewidth\": 0, \"ticks\": \"\"}}, \"type\": \"scattermapbox\"}], \"scatterpolar\": [{\"marker\": {\"colorbar\": {\"outlinewidth\": 0, \"ticks\": \"\"}}, \"type\": \"scatterpolar\"}], \"scatterpolargl\": [{\"marker\": {\"colorbar\": {\"outlinewidth\": 0, \"ticks\": \"\"}}, \"type\": \"scatterpolargl\"}], \"scatterternary\": [{\"marker\": {\"colorbar\": {\"outlinewidth\": 0, \"ticks\": \"\"}}, \"type\": \"scatterternary\"}], \"surface\": [{\"colorbar\": {\"outlinewidth\": 0, \"ticks\": \"\"}, \"colorscale\": [[0.0, \"#0d0887\"], [0.1111111111111111, \"#46039f\"], [0.2222222222222222, \"#7201a8\"], [0.3333333333333333, \"#9c179e\"], [0.4444444444444444, \"#bd3786\"], [0.5555555555555556, \"#d8576b\"], [0.6666666666666666, \"#ed7953\"], [0.7777777777777778, \"#fb9f3a\"], [0.8888888888888888, \"#fdca26\"], [1.0, \"#f0f921\"]], \"type\": \"surface\"}], \"table\": [{\"cells\": {\"fill\": {\"color\": \"#EBF0F8\"}, \"line\": {\"color\": \"white\"}}, \"header\": {\"fill\": {\"color\": \"#C8D4E3\"}, \"line\": {\"color\": \"white\"}}, \"type\": \"table\"}]}, \"layout\": {\"annotationdefaults\": {\"arrowcolor\": \"#2a3f5f\", \"arrowhead\": 0, \"arrowwidth\": 1}, \"coloraxis\": {\"colorbar\": {\"outlinewidth\": 0, \"ticks\": \"\"}}, \"colorscale\": {\"diverging\": [[0, \"#8e0152\"], [0.1, \"#c51b7d\"], [0.2, \"#de77ae\"], [0.3, \"#f1b6da\"], [0.4, \"#fde0ef\"], [0.5, \"#f7f7f7\"], [0.6, \"#e6f5d0\"], [0.7, \"#b8e186\"], [0.8, \"#7fbc41\"], [0.9, \"#4d9221\"], [1, \"#276419\"]], \"sequential\": [[0.0, \"#0d0887\"], [0.1111111111111111, \"#46039f\"], [0.2222222222222222, \"#7201a8\"], [0.3333333333333333, \"#9c179e\"], [0.4444444444444444, \"#bd3786\"], [0.5555555555555556, \"#d8576b\"], [0.6666666666666666, \"#ed7953\"], [0.7777777777777778, \"#fb9f3a\"], [0.8888888888888888, \"#fdca26\"], [1.0, \"#f0f921\"]], \"sequentialminus\": [[0.0, \"#0d0887\"], [0.1111111111111111, \"#46039f\"], [0.2222222222222222, \"#7201a8\"], [0.3333333333333333, \"#9c179e\"], [0.4444444444444444, \"#bd3786\"], [0.5555555555555556, \"#d8576b\"], [0.6666666666666666, \"#ed7953\"], [0.7777777777777778, \"#fb9f3a\"], [0.8888888888888888, \"#fdca26\"], [1.0, \"#f0f921\"]]}, \"colorway\": [\"#636efa\", \"#EF553B\", \"#00cc96\", \"#ab63fa\", \"#FFA15A\", \"#19d3f3\", \"#FF6692\", \"#B6E880\", \"#FF97FF\", \"#FECB52\"], \"font\": {\"color\": \"#2a3f5f\"}, \"geo\": {\"bgcolor\": \"white\", \"lakecolor\": \"white\", \"landcolor\": \"#E5ECF6\", \"showlakes\": true, \"showland\": true, \"subunitcolor\": \"white\"}, \"hoverlabel\": {\"align\": \"left\"}, \"hovermode\": \"closest\", \"mapbox\": {\"style\": \"light\"}, \"paper_bgcolor\": \"white\", \"plot_bgcolor\": \"#E5ECF6\", \"polar\": {\"angularaxis\": {\"gridcolor\": \"white\", \"linecolor\": \"white\", \"ticks\": \"\"}, \"bgcolor\": \"#E5ECF6\", \"radialaxis\": {\"gridcolor\": \"white\", \"linecolor\": \"white\", \"ticks\": \"\"}}, \"scene\": {\"xaxis\": {\"backgroundcolor\": \"#E5ECF6\", \"gridcolor\": \"white\", \"gridwidth\": 2, \"linecolor\": \"white\", \"showbackground\": true, \"ticks\": \"\", \"zerolinecolor\": \"white\"}, \"yaxis\": {\"backgroundcolor\": \"#E5ECF6\", \"gridcolor\": \"white\", \"gridwidth\": 2, \"linecolor\": \"white\", \"showbackground\": true, \"ticks\": \"\", \"zerolinecolor\": \"white\"}, \"zaxis\": {\"backgroundcolor\": \"#E5ECF6\", \"gridcolor\": \"white\", \"gridwidth\": 2, \"linecolor\": \"white\", \"showbackground\": true, \"ticks\": \"\", \"zerolinecolor\": \"white\"}}, \"shapedefaults\": {\"line\": {\"color\": \"#2a3f5f\"}}, \"ternary\": {\"aaxis\": {\"gridcolor\": \"white\", \"linecolor\": \"white\", \"ticks\": \"\"}, \"baxis\": {\"gridcolor\": \"white\", \"linecolor\": \"white\", \"ticks\": \"\"}, \"bgcolor\": \"#E5ECF6\", \"caxis\": {\"gridcolor\": \"white\", \"linecolor\": \"white\", \"ticks\": \"\"}}, \"title\": {\"x\": 0.05}, \"xaxis\": {\"automargin\": true, \"gridcolor\": \"white\", \"linecolor\": \"white\", \"ticks\": \"\", \"title\": {\"standoff\": 15}, \"zerolinecolor\": \"white\", \"zerolinewidth\": 2}, \"yaxis\": {\"automargin\": true, \"gridcolor\": \"white\", \"linecolor\": \"white\", \"ticks\": \"\", \"title\": {\"standoff\": 15}, \"zerolinecolor\": \"white\", \"zerolinewidth\": 2}}}, \"xaxis\": {\"anchor\": \"y\", \"domain\": [0.0, 1.0], \"title\": {\"text\": \"Women Entrepreneurship Index\"}}, \"yaxis\": {\"anchor\": \"x\", \"domain\": [0.0, 1.0], \"title\": {\"text\": \"Entrepreneurship Index\"}}},                        {\"responsive\": true}                    ).then(function(){\n",
       "                            \n",
       "var gd = document.getElementById('6d894e08-3706-4119-83bc-31440e11f56e');\n",
       "var x = new MutationObserver(function (mutations, observer) {{\n",
       "        var display = window.getComputedStyle(gd).display;\n",
       "        if (!display || display === 'none') {{\n",
       "            console.log([gd, 'removed!']);\n",
       "            Plotly.purge(gd);\n",
       "            observer.disconnect();\n",
       "        }}\n",
       "}});\n",
       "\n",
       "// Listen for the removal of the full notebook cells\n",
       "var notebookContainer = gd.closest('#notebook-container');\n",
       "if (notebookContainer) {{\n",
       "    x.observe(notebookContainer, {childList: true});\n",
       "}}\n",
       "\n",
       "// Listen for the clearing of the current output cell\n",
       "var outputEl = gd.closest('.output');\n",
       "if (outputEl) {{\n",
       "    x.observe(outputEl, {childList: true});\n",
       "}}\n",
       "\n",
       "                        })                };                });            </script>        </div>"
      ]
     },
     "metadata": {},
     "output_type": "display_data"
    }
   ],
   "source": [
    "px.scatter(data, x ='Women Entrepreneurship Index', y = 'Entrepreneurship Index')"
   ]
  },
  {
   "cell_type": "markdown",
   "metadata": {
    "papermill": {
     "duration": 0.039774,
     "end_time": "2020-11-28T18:08:26.272042",
     "exception": false,
     "start_time": "2020-11-28T18:08:26.232268",
     "status": "completed"
    },
    "tags": []
   },
   "source": [
    "**As Entrepreneurship Index increases Women Entrepreneurship Index tend to increase**"
   ]
  },
  {
   "cell_type": "markdown",
   "metadata": {
    "papermill": {
     "duration": 0.039936,
     "end_time": "2020-11-28T18:08:26.352211",
     "exception": false,
     "start_time": "2020-11-28T18:08:26.312275",
     "status": "completed"
    },
    "tags": []
   },
   "source": [
    "# Woman Entrepreneurship Index v/s Female Labor Force Participation Rate"
   ]
  },
  {
   "cell_type": "code",
   "execution_count": 23,
   "metadata": {
    "execution": {
     "iopub.execute_input": "2020-11-28T18:08:26.471943Z",
     "iopub.status.busy": "2020-11-28T18:08:26.467105Z",
     "iopub.status.idle": "2020-11-28T18:08:26.493048Z",
     "shell.execute_reply": "2020-11-28T18:08:26.493531Z"
    },
    "papermill": {
     "duration": 0.101403,
     "end_time": "2020-11-28T18:08:26.493666",
     "exception": false,
     "start_time": "2020-11-28T18:08:26.392263",
     "status": "completed"
    },
    "tags": []
   },
   "outputs": [
    {
     "data": {
      "text/html": [
       "<div>                            <div id=\"c7987434-7aa0-4f39-a208-0f5401d65d1e\" class=\"plotly-graph-div\" style=\"height:525px; width:100%;\"></div>            <script type=\"text/javascript\">                require([\"plotly\"], function(Plotly) {                    window.PLOTLYENV=window.PLOTLYENV || {};                                    if (document.getElementById(\"c7987434-7aa0-4f39-a208-0f5401d65d1e\")) {                    Plotly.newPlot(                        \"c7987434-7aa0-4f39-a208-0f5401d65d1e\",                        [{\"hovertemplate\": \"Women Entrepreneurship Index=%{x}<br>Female Labor Force Participation Rate=%{y}<extra></extra>\", \"legendgroup\": \"\", \"marker\": {\"color\": \"#636efa\", \"symbol\": \"circle\"}, \"mode\": \"markers\", \"name\": \"\", \"orientation\": \"v\", \"showlegend\": false, \"type\": \"scatter\", \"x\": [54.9, 63.6, 55.4, 66.4, 68.8, 63.6, 43.0, 64.3, 51.4, 56.6, 58.5, 69.3, 54.8, 55.9, 52.5, 49.9, 69.7, 53.7, 57.7, 66.7, 74.8, 68.0, 40.0, 66.3, 59.8, 63.7, 27.4, 35.7, 31.6, 31.1, 38.3, 36.1, 32.3, 27.7, 29.9, 25.8, 25.3, 38.6, 39.2, 42.8, 36.9, 43.6, 37.0, 36.6, 30.7, 39.3, 44.5], \"xaxis\": \"x\", \"y\": [67.1, 58.0, 68.5, 67.7, 60.6, 69.9, 42.5, 59.4, 47.2, 66.4, 66.5, 69.2, 55.9, 61.0, 52.7, 60.4, 70.3, 57.8, 56.6, 74.0, 66.8, 82.3, 64.7, 69.2, 59.18, 74.7, 18.0, 47.3, 51.9, 55.9, 62.4, 59.4, 63.5, 64.6, 55.7, 60.8, 61.1, 37.7, 58.5, 44.7, 67.9, 63.4, 13.0, 62.0, 25.19, 30.4, 68.0], \"yaxis\": \"y\"}],                        {\"legend\": {\"tracegroupgap\": 0}, \"margin\": {\"t\": 60}, \"template\": {\"data\": {\"bar\": [{\"error_x\": {\"color\": \"#2a3f5f\"}, \"error_y\": {\"color\": \"#2a3f5f\"}, \"marker\": {\"line\": {\"color\": \"#E5ECF6\", \"width\": 0.5}}, \"type\": \"bar\"}], \"barpolar\": [{\"marker\": {\"line\": {\"color\": \"#E5ECF6\", \"width\": 0.5}}, \"type\": \"barpolar\"}], \"carpet\": [{\"aaxis\": {\"endlinecolor\": \"#2a3f5f\", \"gridcolor\": \"white\", \"linecolor\": \"white\", \"minorgridcolor\": \"white\", \"startlinecolor\": \"#2a3f5f\"}, \"baxis\": {\"endlinecolor\": \"#2a3f5f\", \"gridcolor\": \"white\", \"linecolor\": \"white\", \"minorgridcolor\": \"white\", \"startlinecolor\": \"#2a3f5f\"}, \"type\": \"carpet\"}], \"choropleth\": [{\"colorbar\": {\"outlinewidth\": 0, \"ticks\": \"\"}, \"type\": \"choropleth\"}], \"contour\": [{\"colorbar\": {\"outlinewidth\": 0, \"ticks\": \"\"}, \"colorscale\": [[0.0, \"#0d0887\"], [0.1111111111111111, \"#46039f\"], [0.2222222222222222, \"#7201a8\"], [0.3333333333333333, \"#9c179e\"], [0.4444444444444444, \"#bd3786\"], [0.5555555555555556, \"#d8576b\"], [0.6666666666666666, \"#ed7953\"], [0.7777777777777778, \"#fb9f3a\"], [0.8888888888888888, \"#fdca26\"], [1.0, \"#f0f921\"]], \"type\": \"contour\"}], \"contourcarpet\": [{\"colorbar\": {\"outlinewidth\": 0, \"ticks\": \"\"}, \"type\": \"contourcarpet\"}], \"heatmap\": [{\"colorbar\": {\"outlinewidth\": 0, \"ticks\": \"\"}, \"colorscale\": [[0.0, \"#0d0887\"], [0.1111111111111111, \"#46039f\"], [0.2222222222222222, \"#7201a8\"], [0.3333333333333333, \"#9c179e\"], [0.4444444444444444, \"#bd3786\"], [0.5555555555555556, \"#d8576b\"], [0.6666666666666666, \"#ed7953\"], [0.7777777777777778, \"#fb9f3a\"], [0.8888888888888888, \"#fdca26\"], [1.0, \"#f0f921\"]], \"type\": \"heatmap\"}], \"heatmapgl\": [{\"colorbar\": {\"outlinewidth\": 0, \"ticks\": \"\"}, \"colorscale\": [[0.0, \"#0d0887\"], [0.1111111111111111, \"#46039f\"], [0.2222222222222222, \"#7201a8\"], [0.3333333333333333, \"#9c179e\"], [0.4444444444444444, \"#bd3786\"], [0.5555555555555556, \"#d8576b\"], [0.6666666666666666, \"#ed7953\"], [0.7777777777777778, \"#fb9f3a\"], [0.8888888888888888, \"#fdca26\"], [1.0, \"#f0f921\"]], \"type\": \"heatmapgl\"}], \"histogram\": [{\"marker\": {\"colorbar\": {\"outlinewidth\": 0, \"ticks\": \"\"}}, \"type\": \"histogram\"}], \"histogram2d\": [{\"colorbar\": {\"outlinewidth\": 0, \"ticks\": \"\"}, \"colorscale\": [[0.0, \"#0d0887\"], [0.1111111111111111, \"#46039f\"], [0.2222222222222222, \"#7201a8\"], [0.3333333333333333, \"#9c179e\"], [0.4444444444444444, \"#bd3786\"], [0.5555555555555556, \"#d8576b\"], [0.6666666666666666, \"#ed7953\"], [0.7777777777777778, \"#fb9f3a\"], [0.8888888888888888, \"#fdca26\"], [1.0, \"#f0f921\"]], \"type\": \"histogram2d\"}], \"histogram2dcontour\": [{\"colorbar\": {\"outlinewidth\": 0, \"ticks\": \"\"}, \"colorscale\": [[0.0, \"#0d0887\"], [0.1111111111111111, \"#46039f\"], [0.2222222222222222, \"#7201a8\"], [0.3333333333333333, \"#9c179e\"], [0.4444444444444444, \"#bd3786\"], [0.5555555555555556, \"#d8576b\"], [0.6666666666666666, \"#ed7953\"], [0.7777777777777778, \"#fb9f3a\"], [0.8888888888888888, \"#fdca26\"], [1.0, \"#f0f921\"]], \"type\": \"histogram2dcontour\"}], \"mesh3d\": [{\"colorbar\": {\"outlinewidth\": 0, \"ticks\": \"\"}, \"type\": \"mesh3d\"}], \"parcoords\": [{\"line\": {\"colorbar\": {\"outlinewidth\": 0, \"ticks\": \"\"}}, \"type\": \"parcoords\"}], \"pie\": [{\"automargin\": true, \"type\": \"pie\"}], \"scatter\": [{\"marker\": {\"colorbar\": {\"outlinewidth\": 0, \"ticks\": \"\"}}, \"type\": \"scatter\"}], \"scatter3d\": [{\"line\": {\"colorbar\": {\"outlinewidth\": 0, \"ticks\": \"\"}}, \"marker\": {\"colorbar\": {\"outlinewidth\": 0, \"ticks\": \"\"}}, \"type\": \"scatter3d\"}], \"scattercarpet\": [{\"marker\": {\"colorbar\": {\"outlinewidth\": 0, \"ticks\": \"\"}}, \"type\": \"scattercarpet\"}], \"scattergeo\": [{\"marker\": {\"colorbar\": {\"outlinewidth\": 0, \"ticks\": \"\"}}, \"type\": \"scattergeo\"}], \"scattergl\": [{\"marker\": {\"colorbar\": {\"outlinewidth\": 0, \"ticks\": \"\"}}, \"type\": \"scattergl\"}], \"scattermapbox\": [{\"marker\": {\"colorbar\": {\"outlinewidth\": 0, \"ticks\": \"\"}}, \"type\": \"scattermapbox\"}], \"scatterpolar\": [{\"marker\": {\"colorbar\": {\"outlinewidth\": 0, \"ticks\": \"\"}}, \"type\": \"scatterpolar\"}], \"scatterpolargl\": [{\"marker\": {\"colorbar\": {\"outlinewidth\": 0, \"ticks\": \"\"}}, \"type\": \"scatterpolargl\"}], \"scatterternary\": [{\"marker\": {\"colorbar\": {\"outlinewidth\": 0, \"ticks\": \"\"}}, \"type\": \"scatterternary\"}], \"surface\": [{\"colorbar\": {\"outlinewidth\": 0, \"ticks\": \"\"}, \"colorscale\": [[0.0, \"#0d0887\"], [0.1111111111111111, \"#46039f\"], [0.2222222222222222, \"#7201a8\"], [0.3333333333333333, \"#9c179e\"], [0.4444444444444444, \"#bd3786\"], [0.5555555555555556, \"#d8576b\"], [0.6666666666666666, \"#ed7953\"], [0.7777777777777778, \"#fb9f3a\"], [0.8888888888888888, \"#fdca26\"], [1.0, \"#f0f921\"]], \"type\": \"surface\"}], \"table\": [{\"cells\": {\"fill\": {\"color\": \"#EBF0F8\"}, \"line\": {\"color\": \"white\"}}, \"header\": {\"fill\": {\"color\": \"#C8D4E3\"}, \"line\": {\"color\": \"white\"}}, \"type\": \"table\"}]}, \"layout\": {\"annotationdefaults\": {\"arrowcolor\": \"#2a3f5f\", \"arrowhead\": 0, \"arrowwidth\": 1}, \"coloraxis\": {\"colorbar\": {\"outlinewidth\": 0, \"ticks\": \"\"}}, \"colorscale\": {\"diverging\": [[0, \"#8e0152\"], [0.1, \"#c51b7d\"], [0.2, \"#de77ae\"], [0.3, \"#f1b6da\"], [0.4, \"#fde0ef\"], [0.5, \"#f7f7f7\"], [0.6, \"#e6f5d0\"], [0.7, \"#b8e186\"], [0.8, \"#7fbc41\"], [0.9, \"#4d9221\"], [1, \"#276419\"]], \"sequential\": [[0.0, \"#0d0887\"], [0.1111111111111111, \"#46039f\"], [0.2222222222222222, \"#7201a8\"], [0.3333333333333333, \"#9c179e\"], [0.4444444444444444, \"#bd3786\"], [0.5555555555555556, \"#d8576b\"], [0.6666666666666666, \"#ed7953\"], [0.7777777777777778, \"#fb9f3a\"], [0.8888888888888888, \"#fdca26\"], [1.0, \"#f0f921\"]], \"sequentialminus\": [[0.0, \"#0d0887\"], [0.1111111111111111, \"#46039f\"], [0.2222222222222222, \"#7201a8\"], [0.3333333333333333, \"#9c179e\"], [0.4444444444444444, \"#bd3786\"], [0.5555555555555556, \"#d8576b\"], [0.6666666666666666, \"#ed7953\"], [0.7777777777777778, \"#fb9f3a\"], [0.8888888888888888, \"#fdca26\"], [1.0, \"#f0f921\"]]}, \"colorway\": [\"#636efa\", \"#EF553B\", \"#00cc96\", \"#ab63fa\", \"#FFA15A\", \"#19d3f3\", \"#FF6692\", \"#B6E880\", \"#FF97FF\", \"#FECB52\"], \"font\": {\"color\": \"#2a3f5f\"}, \"geo\": {\"bgcolor\": \"white\", \"lakecolor\": \"white\", \"landcolor\": \"#E5ECF6\", \"showlakes\": true, \"showland\": true, \"subunitcolor\": \"white\"}, \"hoverlabel\": {\"align\": \"left\"}, \"hovermode\": \"closest\", \"mapbox\": {\"style\": \"light\"}, \"paper_bgcolor\": \"white\", \"plot_bgcolor\": \"#E5ECF6\", \"polar\": {\"angularaxis\": {\"gridcolor\": \"white\", \"linecolor\": \"white\", \"ticks\": \"\"}, \"bgcolor\": \"#E5ECF6\", \"radialaxis\": {\"gridcolor\": \"white\", \"linecolor\": \"white\", \"ticks\": \"\"}}, \"scene\": {\"xaxis\": {\"backgroundcolor\": \"#E5ECF6\", \"gridcolor\": \"white\", \"gridwidth\": 2, \"linecolor\": \"white\", \"showbackground\": true, \"ticks\": \"\", \"zerolinecolor\": \"white\"}, \"yaxis\": {\"backgroundcolor\": \"#E5ECF6\", \"gridcolor\": \"white\", \"gridwidth\": 2, \"linecolor\": \"white\", \"showbackground\": true, \"ticks\": \"\", \"zerolinecolor\": \"white\"}, \"zaxis\": {\"backgroundcolor\": \"#E5ECF6\", \"gridcolor\": \"white\", \"gridwidth\": 2, \"linecolor\": \"white\", \"showbackground\": true, \"ticks\": \"\", \"zerolinecolor\": \"white\"}}, \"shapedefaults\": {\"line\": {\"color\": \"#2a3f5f\"}}, \"ternary\": {\"aaxis\": {\"gridcolor\": \"white\", \"linecolor\": \"white\", \"ticks\": \"\"}, \"baxis\": {\"gridcolor\": \"white\", \"linecolor\": \"white\", \"ticks\": \"\"}, \"bgcolor\": \"#E5ECF6\", \"caxis\": {\"gridcolor\": \"white\", \"linecolor\": \"white\", \"ticks\": \"\"}}, \"title\": {\"x\": 0.05}, \"xaxis\": {\"automargin\": true, \"gridcolor\": \"white\", \"linecolor\": \"white\", \"ticks\": \"\", \"title\": {\"standoff\": 15}, \"zerolinecolor\": \"white\", \"zerolinewidth\": 2}, \"yaxis\": {\"automargin\": true, \"gridcolor\": \"white\", \"linecolor\": \"white\", \"ticks\": \"\", \"title\": {\"standoff\": 15}, \"zerolinecolor\": \"white\", \"zerolinewidth\": 2}}}, \"xaxis\": {\"anchor\": \"y\", \"domain\": [0.0, 1.0], \"title\": {\"text\": \"Women Entrepreneurship Index\"}}, \"yaxis\": {\"anchor\": \"x\", \"domain\": [0.0, 1.0], \"title\": {\"text\": \"Female Labor Force Participation Rate\"}}},                        {\"responsive\": true}                    ).then(function(){\n",
       "                            \n",
       "var gd = document.getElementById('c7987434-7aa0-4f39-a208-0f5401d65d1e');\n",
       "var x = new MutationObserver(function (mutations, observer) {{\n",
       "        var display = window.getComputedStyle(gd).display;\n",
       "        if (!display || display === 'none') {{\n",
       "            console.log([gd, 'removed!']);\n",
       "            Plotly.purge(gd);\n",
       "            observer.disconnect();\n",
       "        }}\n",
       "}});\n",
       "\n",
       "// Listen for the removal of the full notebook cells\n",
       "var notebookContainer = gd.closest('#notebook-container');\n",
       "if (notebookContainer) {{\n",
       "    x.observe(notebookContainer, {childList: true});\n",
       "}}\n",
       "\n",
       "// Listen for the clearing of the current output cell\n",
       "var outputEl = gd.closest('.output');\n",
       "if (outputEl) {{\n",
       "    x.observe(outputEl, {childList: true});\n",
       "}}\n",
       "\n",
       "                        })                };                });            </script>        </div>"
      ]
     },
     "metadata": {},
     "output_type": "display_data"
    }
   ],
   "source": [
    "px.scatter(data, x ='Women Entrepreneurship Index', y = 'Female Labor Force Participation Rate')"
   ]
  },
  {
   "cell_type": "markdown",
   "metadata": {
    "papermill": {
     "duration": 0.042842,
     "end_time": "2020-11-28T18:08:26.577618",
     "exception": false,
     "start_time": "2020-11-28T18:08:26.534776",
     "status": "completed"
    },
    "tags": []
   },
   "source": [
    "Similar to Entrepreneurship Index, **Female Labor Force Participation Rate also increases with Women Entrepreneurship Index but less steeply**"
   ]
  },
  {
   "cell_type": "markdown",
   "metadata": {
    "papermill": {
     "duration": 0.040954,
     "end_time": "2020-11-28T18:08:26.662751",
     "exception": false,
     "start_time": "2020-11-28T18:08:26.621797",
     "status": "completed"
    },
    "tags": []
   },
   "source": [
    "# Developed v/s Developing Countries"
   ]
  },
  {
   "cell_type": "code",
   "execution_count": 24,
   "metadata": {
    "execution": {
     "iopub.execute_input": "2020-11-28T18:08:26.769592Z",
     "iopub.status.busy": "2020-11-28T18:08:26.763045Z",
     "iopub.status.idle": "2020-11-28T18:08:27.188958Z",
     "shell.execute_reply": "2020-11-28T18:08:27.188305Z"
    },
    "papermill": {
     "duration": 0.486472,
     "end_time": "2020-11-28T18:08:27.189062",
     "exception": false,
     "start_time": "2020-11-28T18:08:26.702590",
     "status": "completed"
    },
    "tags": []
   },
   "outputs": [
    {
     "data": {
      "image/png": "[encoded data removed]",
      "text/plain": [
       "<Figure size 432x216 with 1 Axes>"
      ]
     },
     "metadata": {},
     "output_type": "display_data"
    }
   ],
   "source": [
    "plt.figure(figsize=(6,3))\n",
    "sns.barplot(y = 'Level of development', x = 'Entrepreneurship Index', data = data,ci = None);"
   ]
  },
  {
   "cell_type": "markdown",
   "metadata": {
    "papermill": {
     "duration": 0.040461,
     "end_time": "2020-11-28T18:08:27.271140",
     "exception": false,
     "start_time": "2020-11-28T18:08:27.230679",
     "status": "completed"
    },
    "tags": []
   },
   "source": [
    "An obvious observation, **Developed countries have a better Entrepreneurship Culture than Developing countries**"
   ]
  },
  {
   "cell_type": "code",
   "execution_count": 25,
   "metadata": {
    "execution": {
     "iopub.execute_input": "2020-11-28T18:08:27.372049Z",
     "iopub.status.busy": "2020-11-28T18:08:27.359960Z",
     "iopub.status.idle": "2020-11-28T18:08:27.542263Z",
     "shell.execute_reply": "2020-11-28T18:08:27.541774Z"
    },
    "papermill": {
     "duration": 0.229383,
     "end_time": "2020-11-28T18:08:27.542363",
     "exception": false,
     "start_time": "2020-11-28T18:08:27.312980",
     "status": "completed"
    },
    "tags": []
   },
   "outputs": [
    {
     "data": {
      "image/png": "[encoded data removed]",
      "text/plain": [
       "<Figure size 720x432 with 1 Axes>"
      ]
     },
     "metadata": {},
     "output_type": "display_data"
    }
   ],
   "source": [
    "plt.figure(figsize=(10,6))\n",
    "sns.stripplot(x = 'Level of development', y = 'Inflation rate', data = data);"
   ]
  },
  {
   "cell_type": "markdown",
   "metadata": {
    "papermill": {
     "duration": 0.041496,
     "end_time": "2020-11-28T18:08:27.626094",
     "exception": false,
     "start_time": "2020-11-28T18:08:27.584598",
     "status": "completed"
    },
    "tags": []
   },
   "source": [
    "In general the **Inflation Rate in Developing Countries is more than that in Developed Countries**"
   ]
  },
  {
   "cell_type": "code",
   "execution_count": 26,
   "metadata": {
    "execution": {
     "iopub.execute_input": "2020-11-28T18:08:27.720995Z",
     "iopub.status.busy": "2020-11-28T18:08:27.717443Z",
     "iopub.status.idle": "2020-11-28T18:08:27.921586Z",
     "shell.execute_reply": "2020-11-28T18:08:27.921056Z"
    },
    "papermill": {
     "duration": 0.252814,
     "end_time": "2020-11-28T18:08:27.921695",
     "exception": false,
     "start_time": "2020-11-28T18:08:27.668881",
     "status": "completed"
    },
    "tags": []
   },
   "outputs": [
    {
     "data": {
      "image/png": "[encoded data removed]",
      "text/plain": [
       "<Figure size 720x432 with 1 Axes>"
      ]
     },
     "metadata": {},
     "output_type": "display_data"
    }
   ],
   "source": [
    "plt.figure(figsize=(10,6))\n",
    "sns.boxplot(x = 'Level of development', y = 'Female Labor Force Participation Rate', data = data);"
   ]
  },
  {
   "cell_type": "markdown",
   "metadata": {
    "papermill": {
     "duration": 0.042475,
     "end_time": "2020-11-28T18:08:28.007534",
     "exception": false,
     "start_time": "2020-11-28T18:08:27.965059",
     "status": "completed"
    },
    "tags": []
   },
   "source": [
    "**Developed Countries have more Female Labor Participation than Developing Countries**"
   ]
  },
  {
   "cell_type": "markdown",
   "metadata": {
    "papermill": {
     "duration": 0.043923,
     "end_time": "2020-11-28T18:08:28.095795",
     "exception": false,
     "start_time": "2020-11-28T18:08:28.051872",
     "status": "completed"
    },
    "tags": []
   },
   "source": [
    "# European Union v/s the World"
   ]
  },
  {
   "cell_type": "code",
   "execution_count": 27,
   "metadata": {
    "execution": {
     "iopub.execute_input": "2020-11-28T18:08:28.209877Z",
     "iopub.status.busy": "2020-11-28T18:08:28.208530Z",
     "iopub.status.idle": "2020-11-28T18:08:28.476239Z",
     "shell.execute_reply": "2020-11-28T18:08:28.475615Z"
    },
    "papermill": {
     "duration": 0.336711,
     "end_time": "2020-11-28T18:08:28.476342",
     "exception": false,
     "start_time": "2020-11-28T18:08:28.139631",
     "status": "completed"
    },
    "tags": []
   },
   "outputs": [
    {
     "data": {
      "image/png": "[encoded data removed]",
      "text/plain": [
       "<Figure size 432x216 with 1 Axes>"
      ]
     },
     "metadata": {},
     "output_type": "display_data"
    }
   ],
   "source": [
    "plt.figure(figsize=(6,3))\n",
    "sns.barplot(y = 'European Union Membership', x = 'Entrepreneurship Index', data = data,ci = None);"
   ]
  },
  {
   "cell_type": "markdown",
   "metadata": {
    "papermill": {
     "duration": 0.044392,
     "end_time": "2020-11-28T18:08:28.565656",
     "exception": false,
     "start_time": "2020-11-28T18:08:28.521264",
     "status": "completed"
    },
    "tags": []
   },
   "source": [
    "**EU have a better Entrepreneurship Index than Rest of the world on average**"
   ]
  },
  {
   "cell_type": "code",
   "execution_count": 28,
   "metadata": {
    "execution": {
     "iopub.execute_input": "2020-11-28T18:08:28.671529Z",
     "iopub.status.busy": "2020-11-28T18:08:28.660438Z",
     "iopub.status.idle": "2020-11-28T18:08:28.838765Z",
     "shell.execute_reply": "2020-11-28T18:08:28.838216Z"
    },
    "papermill": {
     "duration": 0.229031,
     "end_time": "2020-11-28T18:08:28.838885",
     "exception": false,
     "start_time": "2020-11-28T18:08:28.609854",
     "status": "completed"
    },
    "tags": []
   },
   "outputs": [
    {
     "data": {
      "image/png": "[encoded data removed]",
      "text/plain": [
       "<Figure size 720x432 with 1 Axes>"
      ]
     },
     "metadata": {},
     "output_type": "display_data"
    }
   ],
   "source": [
    "plt.figure(figsize=(10,6))\n",
    "sns.stripplot(x = 'European Union Membership', y = 'Inflation rate', data = data);"
   ]
  },
  {
   "cell_type": "markdown",
   "metadata": {
    "papermill": {
     "duration": 0.046798,
     "end_time": "2020-11-28T18:08:28.931797",
     "exception": false,
     "start_time": "2020-11-28T18:08:28.884999",
     "status": "completed"
    },
    "tags": []
   },
   "source": [
    "**Inflation Rates in EU are lower than the Rest of the world**"
   ]
  },
  {
   "cell_type": "code",
   "execution_count": 29,
   "metadata": {
    "execution": {
     "iopub.execute_input": "2020-11-28T18:08:29.032922Z",
     "iopub.status.busy": "2020-11-28T18:08:29.029228Z",
     "iopub.status.idle": "2020-11-28T18:08:29.189586Z",
     "shell.execute_reply": "2020-11-28T18:08:29.188852Z"
    },
    "papermill": {
     "duration": 0.211866,
     "end_time": "2020-11-28T18:08:29.189706",
     "exception": false,
     "start_time": "2020-11-28T18:08:28.977840",
     "status": "completed"
    },
    "tags": []
   },
   "outputs": [
    {
     "data": {
      "image/png": "[encoded data removed]",
      "text/plain": [
       "<Figure size 720x432 with 1 Axes>"
      ]
     },
     "metadata": {},
     "output_type": "display_data"
    }
   ],
   "source": [
    "plt.figure(figsize=(10,6))\n",
    "sns.boxplot(x = 'European Union Membership', y = 'Female Labor Force Participation Rate', data = data);"
   ]
  },
  {
   "cell_type": "markdown",
   "metadata": {
    "papermill": {
     "duration": 0.067582,
     "end_time": "2020-11-28T18:08:29.325233",
     "exception": false,
     "start_time": "2020-11-28T18:08:29.257651",
     "status": "completed"
    },
    "tags": []
   },
   "source": [
    "**The Female Labor Particiption is almost simliar in Europe and the Rest of the World with some exceptions**"
   ]
  }
 ],
 "metadata": {
  "kernelspec": {
   "display_name": "Python 3",
   "language": "python",
   "name": "python3"
  },
  "language_info": {
   "codemirror_mode": {
    "name": "ipython",
    "version": 3
   },
   "file_extension": ".py",
   "mimetype": "text/x-python",
   "name": "python",
   "nbconvert_exporter": "python",
   "pygments_lexer": "ipython3",
   "version": "3.7.6"
  },
  "papermill": {
   "duration": 14.4625,
   "end_time": "2020-11-28T18:08:29.500015",
   "environment_variables": {},
   "exception": null,
   "input_path": "__notebook__.ipynb",
   "output_path": "__notebook__.ipynb",
   "parameters": {},
   "start_time": "2020-11-28T18:08:15.037515",
   "version": "2.1.0"
  }
 },
 "nbformat": 4,
 "nbformat_minor": 4
}
